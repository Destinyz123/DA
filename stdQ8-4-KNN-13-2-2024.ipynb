{
 "cells": [
  {
   "cell_type": "markdown",
   "metadata": {
    "id": "yzz1TaHsbnAS"
   },
   "source": [
    "###  Read CSV"
   ]
  },
  {
   "cell_type": "code",
   "execution_count": 2,
   "metadata": {},
   "outputs": [],
   "source": [
    "import pandas as pd\n",
    "import numpy as np"
   ]
  },
  {
   "cell_type": "code",
   "execution_count": 3,
   "metadata": {},
   "outputs": [
    {
     "name": "stdout",
     "output_type": "stream",
     "text": [
      "      Loan_ID  Gender Married Dependents     Education Self_Employed  \\\n",
      "0    LP001003    Male     Yes          1      Graduate            No   \n",
      "1    LP001005    Male     Yes          0      Graduate           Yes   \n",
      "2    LP001006    Male     Yes          0  Not Graduate            No   \n",
      "3    LP001008    Male      No          0      Graduate            No   \n",
      "4    LP001013    Male     Yes          0  Not Graduate            No   \n",
      "..        ...     ...     ...        ...           ...           ...   \n",
      "303  LP002953    Male     Yes         3+      Graduate            No   \n",
      "304  LP002974    Male     Yes          0      Graduate            No   \n",
      "305  LP002978  Female      No          0      Graduate            No   \n",
      "306  LP002979    Male     Yes         3+      Graduate            No   \n",
      "307  LP002990  Female      No          0      Graduate           Yes   \n",
      "\n",
      "     ApplicantIncome  CoapplicantIncome  LoanAmount  Loan_Amount_Term  \\\n",
      "0               4583             1508.0       128.0             360.0   \n",
      "1               3000                0.0        66.0             360.0   \n",
      "2               2583             2358.0       120.0             360.0   \n",
      "3               6000                0.0       141.0             360.0   \n",
      "4               2333             1516.0        95.0             360.0   \n",
      "..               ...                ...         ...               ...   \n",
      "303             5703                0.0       128.0             360.0   \n",
      "304             3232             1950.0       108.0             360.0   \n",
      "305             2900                0.0        71.0             360.0   \n",
      "306             4106                0.0        40.0             180.0   \n",
      "307             4583                0.0       133.0             360.0   \n",
      "\n",
      "     Credit_History Property_Area Loan_Status  \n",
      "0               1.0         Rural           N  \n",
      "1               1.0         Urban           Y  \n",
      "2               1.0         Urban           Y  \n",
      "3               1.0         Urban           Y  \n",
      "4               1.0         Urban           Y  \n",
      "..              ...           ...         ...  \n",
      "303             1.0         Urban           Y  \n",
      "304             1.0         Rural           Y  \n",
      "305             1.0         Rural           Y  \n",
      "306             1.0         Rural           Y  \n",
      "307             0.0     Semiurban           N  \n",
      "\n",
      "[308 rows x 13 columns]\n"
     ]
    }
   ],
   "source": [
    "loan  = pd.read_csv('loan_datawithoutnull.csv')\n",
    "print(loan)"
   ]
  },
  {
   "cell_type": "markdown",
   "metadata": {
    "id": "Mtoz7knRqD-F"
   },
   "source": [
    "**About the loan_data.csv file:**\n",
    "\n",
    "\n",
    "* Loan_ID: A unique loan ID.\n",
    "* Gender: Either male or female.\n",
    "* Married: Weather Married(yes) or Not Marttied(No).\n",
    "* Dependents: Number of persons depending on the client.\n",
    "* Education: Applicant Education(Graduate or Undergraduate).\n",
    "* Self_Employed: Self-employed (Yes/No).\n",
    "* ApplicantIncome: Applicant income.\n",
    "* CoapplicantIncome: Co-applicant income.\n",
    "* LoanAmount: Loan amount in thousands.\n",
    "* Loan_Amount_Term: Terms of the loan in months.\n",
    "* Credit_History: Credit history meets guidelines.\n",
    "* Property_Area: Applicants are living either Urban, Semi-Urban or Rural.\n",
    "* Loan_Status: Loan approved (Y/N).\n",
    "\n",
    "\n",
    "\n"
   ]
  },
  {
   "cell_type": "markdown",
   "metadata": {
    "id": "aqK-YWiwbnAV"
   },
   "source": [
    "Converting string labels into numbers (Import LabelEncoder)"
   ]
  },
  {
   "cell_type": "code",
   "execution_count": 5,
   "metadata": {},
   "outputs": [
    {
     "data": {
      "text/plain": [
       "Index(['Loan_ID', 'Gender', 'Married', 'Dependents', 'Education',\n",
       "       'Self_Employed', 'ApplicantIncome', 'CoapplicantIncome', 'LoanAmount',\n",
       "       'Loan_Amount_Term', 'Credit_History', 'Property_Area', 'Loan_Status'],\n",
       "      dtype='object')"
      ]
     },
     "execution_count": 5,
     "metadata": {},
     "output_type": "execute_result"
    }
   ],
   "source": [
    "loan.columns"
   ]
  },
  {
   "cell_type": "code",
   "execution_count": 9,
   "metadata": {},
   "outputs": [
    {
     "name": "stdout",
     "output_type": "stream",
     "text": [
      "      Loan_ID  Gender  Married  Dependents  Education  Self_Employed  \\\n",
      "0    LP001003       1        1           1          0              0   \n",
      "1    LP001005       1        1           0          0              1   \n",
      "2    LP001006       1        1           0          1              0   \n",
      "3    LP001008       1        0           0          0              0   \n",
      "4    LP001013       1        1           0          1              0   \n",
      "..        ...     ...      ...         ...        ...            ...   \n",
      "303  LP002953       1        1           3          0              0   \n",
      "304  LP002974       1        1           0          0              0   \n",
      "305  LP002978       0        0           0          0              0   \n",
      "306  LP002979       1        1           3          0              0   \n",
      "307  LP002990       0        0           0          0              1   \n",
      "\n",
      "     ApplicantIncome  CoapplicantIncome  LoanAmount  Loan_Amount_Term  \\\n",
      "0               4583             1508.0       128.0             360.0   \n",
      "1               3000                0.0        66.0             360.0   \n",
      "2               2583             2358.0       120.0             360.0   \n",
      "3               6000                0.0       141.0             360.0   \n",
      "4               2333             1516.0        95.0             360.0   \n",
      "..               ...                ...         ...               ...   \n",
      "303             5703                0.0       128.0             360.0   \n",
      "304             3232             1950.0       108.0             360.0   \n",
      "305             2900                0.0        71.0             360.0   \n",
      "306             4106                0.0        40.0             180.0   \n",
      "307             4583                0.0       133.0             360.0   \n",
      "\n",
      "     Credit_History  Property_Area Loan_Status  \n",
      "0               1.0              0           N  \n",
      "1               1.0              2           Y  \n",
      "2               1.0              2           Y  \n",
      "3               1.0              2           Y  \n",
      "4               1.0              2           Y  \n",
      "..              ...            ...         ...  \n",
      "303             1.0              2           Y  \n",
      "304             1.0              0           Y  \n",
      "305             1.0              0           Y  \n",
      "306             1.0              0           Y  \n",
      "307             0.0              1           N  \n",
      "\n",
      "[308 rows x 13 columns]\n"
     ]
    }
   ],
   "source": [
    "\n",
    "from sklearn import preprocessing\n",
    "\n",
    "#creating labelEncoder\n",
    "number = preprocessing.LabelEncoder()\n",
    "\n",
    "loan['Married'] = number.fit_transform(loan['Married'])\n",
    "loan['Gender'] = number.fit_transform(loan['Gender'])\n",
    "loan['Self_Employed'] = number.fit_transform(loan['Self_Employed'])#temperature\n",
    "loan['Education'] = number.fit_transform(loan['Education'])#humidity\n",
    "loan['Property_Area'] = number.fit_transform(loan['Property_Area'])#windy\n",
    "loan['Dependents'] = number.fit_transform(loan['Dependents'])#windy\n",
    "#play_tennis['play'] = number.fit_transform(play_tennis['play'])\n",
    "\n",
    "print(loan)"
   ]
  },
  {
   "cell_type": "markdown",
   "metadata": {
    "id": "hAcBQm-Wm6rs"
   },
   "source": [
    "sklearn library, which can be found in sklearn.naive_bayes:\n",
    "\n",
    "sklearn.naive_bayes.CategoricalNB:\n",
    "    for using Naive Bayes on categorical predictor variables.\n",
    "            \n",
    "sklearn.naive_bayes.GaussianNB:\n",
    "    for Naive Bayes on numerical predictor variables, with the assumption\n",
    "    that these variables follow Gaussian distribution.\n",
    "    \n",
    "sklearn.naive_bayes.MultinomialNB:\n",
    "    the predictor variables represent the counts, a popular application\n",
    "    is in text classification. Fractional counts like tf-idf may also work.\n",
    "    \n",
    "sklearn.naive_bayes.ComplementNB:\n",
    "    A modification of MultinomialNB which is suitable for imbalanced datasets.\n",
    "    \n",
    "sklearn.naive_bayes.BernoulliNB:\n",
    "    assumes the data follows Bernoulli distribution (i.e. possible values of\n",
    "    predictor variables are 0 and 1)."
   ]
  },
  {
   "cell_type": "markdown",
   "metadata": {
    "id": "4E4emxUebnAX"
   },
   "source": [
    "## NEW DATA SET"
   ]
  },
  {
   "cell_type": "code",
   "execution_count": 15,
   "metadata": {
    "colab": {
     "base_uri": "https://localhost:8080/"
    },
    "executionInfo": {
     "elapsed": 8,
     "status": "ok",
     "timestamp": 1708456484534,
     "user": {
      "displayName": "Teerapath Kaewsri",
      "userId": "04164045618367669019"
     },
     "user_tz": -420
    },
    "id": "B9HkQFqJxQwQ",
    "outputId": "0b678736-5daf-4ec2-81e7-9caa7b7d2bc4"
   },
   "outputs": [],
   "source": [
    "new = [[1,1,0,1,0,2333,0.0,113.0,360.0, 1.0,2], [1,1,0,0,0,3273,0.0,136.0,360.0,1.0,1], [0,1,0,0,0,1800,0.0,123.0,360.0,1.0,2], [1,0,2,0,0,7167,2531.0,114.0,120.0,1.0,1], [1,0,2,0,1,2917,1851.0,25.0,180.0,1.0,0], [0, 0, 0,  1,  0, 1863, 830.0,17.0,360.0, 1.0,  0], [1, 1,  0,  0,  0,  3620,  2118.0, 76.0, 360.0, 0.0, 1], [1,0,  1, 0,  0,  3846,  0.0, 109.0,  360.0,  1.0,  0], [1, 0,  1,  0,  0,  2435,  0.0,  120.0,  300.0, 1.0,  1], [ 1, 1, 0,0,  0,  3459,  1710.0, 74.0,  360.0,  0.0, 1]]"
   ]
  },
  {
   "cell_type": "markdown",
   "metadata": {
    "id": "7V8N6lcvbnAX"
   },
   "source": [
    "### Naive Bayes"
   ]
  },
  {
   "cell_type": "markdown",
   "metadata": {
    "id": "zVV28RL8bnAX"
   },
   "source": [
    "#### Import Library of Naive Bayes"
   ]
  },
  {
   "cell_type": "code",
   "execution_count": 4,
   "metadata": {
    "id": "LMTXVKXsjQSm"
   },
   "outputs": [],
   "source": [
    "from sklearn.naive_bayes import GaussianNB, BernoulliNB, MultinomialNB"
   ]
  },
  {
   "cell_type": "markdown",
   "metadata": {
    "id": "_IsLKmyrbnAY"
   },
   "source": [
    "### GaussianNB"
   ]
  },
  {
   "cell_type": "code",
   "execution_count": 16,
   "metadata": {},
   "outputs": [
    {
     "name": "stdout",
     "output_type": "stream",
     "text": [
      "Predicted Value: ['Y' 'Y' 'Y' 'Y' 'Y' 'Y' 'N' 'Y' 'Y' 'N']\n"
     ]
    },
    {
     "name": "stderr",
     "output_type": "stream",
     "text": [
      "C:\\Users\\user\\anaconda3\\Lib\\site-packages\\sklearn\\base.py:439: UserWarning: X does not have valid feature names, but GaussianNB was fitted with feature names\n",
      "  warnings.warn(\n"
     ]
    }
   ],
   "source": [
    "#Import Library of Naive Bayes\n",
    "from sklearn.naive_bayes import GaussianNB, BernoulliNB, MultinomialNB#, CategoricalNB\n",
    "\n",
    "#Create a Gaussian Classifier\n",
    "NB_model = GaussianNB()\n",
    "\n",
    "# Train the model using the training sets\n",
    "# data =['outlook','temperature', 'humidity','windy'] ,class = 'play'\n",
    "NB_model.fit(loan[['Gender','Married', 'Dependents','Education','Self_Employed','ApplicantIncome','CoapplicantIncome','LoanAmount','Loan_Amount_Term','Credit_History','Property_Area']],loan['Loan_Status'])\n",
    "\n",
    "#Predict Output\n",
    "predicted= NB_model.predict(new) # 1:rain, 1:hot, 0:high, 1:weak\n",
    "print(\"Predicted Value:\", predicted)"
   ]
  },
  {
   "cell_type": "markdown",
   "metadata": {
    "id": "zaoupdp-bnAY"
   },
   "source": [
    "### BernoulliNB"
   ]
  },
  {
   "cell_type": "code",
   "execution_count": 18,
   "metadata": {},
   "outputs": [
    {
     "name": "stdout",
     "output_type": "stream",
     "text": [
      "Predicted Value: ['Y' 'Y' 'Y' 'Y' 'Y' 'Y' 'N' 'Y' 'Y' 'N']\n"
     ]
    },
    {
     "name": "stderr",
     "output_type": "stream",
     "text": [
      "C:\\Users\\user\\anaconda3\\Lib\\site-packages\\sklearn\\base.py:439: UserWarning: X does not have valid feature names, but BernoulliNB was fitted with feature names\n",
      "  warnings.warn(\n"
     ]
    }
   ],
   "source": [
    "\n",
    "BB_model = BernoulliNB()\n",
    "\n",
    "# Train the model using the training sets\n",
    "# data =['outlook','temperature', 'humidity','windy'] ,class = 'play'\n",
    "BB_model.fit(loan[['Gender','Married', 'Dependents','Education','Self_Employed','ApplicantIncome','CoapplicantIncome','LoanAmount','Loan_Amount_Term','Credit_History','Property_Area']],loan['Loan_Status'])\n",
    "\n",
    "#Predict Output\n",
    "predicted= BB_model.predict(new) # 1:rain, 1:hot, 0:high, 1:weak\n",
    "print(\"Predicted Value:\", predicted)"
   ]
  },
  {
   "cell_type": "markdown",
   "metadata": {
    "id": "KB08GEcTbnAY"
   },
   "source": [
    "### MultinomialNB"
   ]
  },
  {
   "cell_type": "code",
   "execution_count": 20,
   "metadata": {},
   "outputs": [
    {
     "name": "stdout",
     "output_type": "stream",
     "text": [
      "Predicted Value: ['Y' 'Y' 'Y' 'Y' 'N' 'N' 'N' 'Y' 'Y' 'N']\n"
     ]
    },
    {
     "name": "stderr",
     "output_type": "stream",
     "text": [
      "C:\\Users\\user\\anaconda3\\Lib\\site-packages\\sklearn\\base.py:439: UserWarning: X does not have valid feature names, but MultinomialNB was fitted with feature names\n",
      "  warnings.warn(\n"
     ]
    }
   ],
   "source": [
    "\n",
    "MB_model = MultinomialNB()\n",
    "\n",
    "# Train the model using the training sets\n",
    "# data =['outlook','temperature', 'humidity','windy'] ,class = 'play'\n",
    "MB_model.fit(loan[['Gender','Married', 'Dependents','Education','Self_Employed','ApplicantIncome','CoapplicantIncome','LoanAmount','Loan_Amount_Term','Credit_History','Property_Area']],loan['Loan_Status'])\n",
    "\n",
    "#Predict Output\n",
    "predicted= MB_model.predict(new) # 1:rain, 1:hot, 0:high, 1:weak\n",
    "print(\"Predicted Value:\", predicted)"
   ]
  },
  {
   "cell_type": "markdown",
   "metadata": {
    "id": "w7sPw5YCbnAY"
   },
   "source": [
    "### K-Nearest Neighbor"
   ]
  },
  {
   "cell_type": "code",
   "execution_count": 21,
   "metadata": {},
   "outputs": [],
   "source": [
    "#Import Library of K-Nearest Neighbor model\n",
    "from sklearn.neighbors import KNeighborsClassifier"
   ]
  },
  {
   "cell_type": "code",
   "execution_count": null,
   "metadata": {},
   "outputs": [],
   "source": [
    "x = v"
   ]
  },
  {
   "cell_type": "markdown",
   "metadata": {
    "id": "uYqTzL-UbnAZ"
   },
   "source": [
    "#### n_neighbors=3"
   ]
  },
  {
   "cell_type": "code",
   "execution_count": 22,
   "metadata": {},
   "outputs": [
    {
     "name": "stdout",
     "output_type": "stream",
     "text": [
      "Predicted Value: ['N' 'Y' 'N' 'Y' 'N' 'Y' 'Y' 'Y' 'Y' 'Y']\n"
     ]
    },
    {
     "name": "stderr",
     "output_type": "stream",
     "text": [
      "C:\\Users\\user\\anaconda3\\Lib\\site-packages\\sklearn\\base.py:439: UserWarning: X does not have valid feature names, but KNeighborsClassifier was fitted with feature names\n",
      "  warnings.warn(\n"
     ]
    }
   ],
   "source": [
    "KNN_model = KNeighborsClassifier(n_neighbors= 3)\n",
    "KNN_model.fit(loan[['Gender','Married', 'Dependents','Education','Self_Employed','ApplicantIncome','CoapplicantIncome','LoanAmount','Loan_Amount_Term','Credit_History','Property_Area']],loan['Loan_Status'])\n",
    "\n",
    "#Predict Output\n",
    "predicted= KNN_model.predict(new) # 1:rain, 1:hot, 0:high, 1:weak\n",
    "print(\"Predicted Value:\", predicted)"
   ]
  },
  {
   "cell_type": "markdown",
   "metadata": {
    "id": "WKVr9fpTbnAZ"
   },
   "source": [
    "#### n_neighbors=5"
   ]
  },
  {
   "cell_type": "code",
   "execution_count": 23,
   "metadata": {},
   "outputs": [
    {
     "name": "stdout",
     "output_type": "stream",
     "text": [
      "Predicted Value: ['N' 'Y' 'N' 'Y' 'N' 'Y' 'Y' 'Y' 'Y' 'Y']\n"
     ]
    },
    {
     "name": "stderr",
     "output_type": "stream",
     "text": [
      "C:\\Users\\user\\anaconda3\\Lib\\site-packages\\sklearn\\base.py:439: UserWarning: X does not have valid feature names, but KNeighborsClassifier was fitted with feature names\n",
      "  warnings.warn(\n"
     ]
    }
   ],
   "source": [
    "KNN1_model = KNeighborsClassifier(n_neighbors= 5)\n",
    "KNN1_model.fit(loan[['Gender','Married', 'Dependents','Education','Self_Employed','ApplicantIncome','CoapplicantIncome','LoanAmount','Loan_Amount_Term','Credit_History','Property_Area']],loan['Loan_Status'])\n",
    "\n",
    "#Predict Output\n",
    "predicted= KNN1_model.predict(new) # 1:rain, 1:hot, 0:high, 1:weak\n",
    "print(\"Predicted Value:\", predicted)"
   ]
  },
  {
   "cell_type": "markdown",
   "metadata": {
    "id": "8MTmGqGD0zBw"
   },
   "source": [
    "#### n_neighbors=7"
   ]
  },
  {
   "cell_type": "code",
   "execution_count": 24,
   "metadata": {},
   "outputs": [
    {
     "name": "stdout",
     "output_type": "stream",
     "text": [
      "Predicted Value: ['N' 'Y' 'N' 'Y' 'Y' 'Y' 'Y' 'Y' 'Y' 'Y']\n"
     ]
    },
    {
     "name": "stderr",
     "output_type": "stream",
     "text": [
      "C:\\Users\\user\\anaconda3\\Lib\\site-packages\\sklearn\\base.py:439: UserWarning: X does not have valid feature names, but KNeighborsClassifier was fitted with feature names\n",
      "  warnings.warn(\n"
     ]
    }
   ],
   "source": [
    "KNN11_model = KNeighborsClassifier(n_neighbors= 7)\n",
    "KNN11_model.fit(loan[['Gender','Married', 'Dependents','Education','Self_Employed','ApplicantIncome','CoapplicantIncome','LoanAmount','Loan_Amount_Term','Credit_History','Property_Area']],loan['Loan_Status'])\n",
    "\n",
    "#Predict Output\n",
    "predicted= KNN11_model.predict(new) # 1:rain, 1:hot, 0:high, 1:weak\n",
    "print(\"Predicted Value:\", predicted)"
   ]
  }
 ],
 "metadata": {
  "colab": {
   "provenance": [
    {
     "file_id": "1ZHhxhSwFXWs26dl_R7QYbIenUo0oLgGB",
     "timestamp": 1708456359980
    },
    {
     "file_id": "14UHWRR9RSwNwYbCCETLlcLqKcnlg2zqw",
     "timestamp": 1708455188052
    }
   ]
  },
  "kernelspec": {
   "display_name": "Python 3 (ipykernel)",
   "language": "python",
   "name": "python3"
  },
  "language_info": {
   "codemirror_mode": {
    "name": "ipython",
    "version": 3
   },
   "file_extension": ".py",
   "mimetype": "text/x-python",
   "name": "python",
   "nbconvert_exporter": "python",
   "pygments_lexer": "ipython3",
   "version": "3.11.5"
  }
 },
 "nbformat": 4,
 "nbformat_minor": 4
}
