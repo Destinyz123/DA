{
 "cells": [
  {
   "cell_type": "markdown",
   "id": "1840f32c",
   "metadata": {},
   "source": [
    "# 650710551-Thananton Pojanawongpanit"
   ]
  },
  {
   "cell_type": "markdown",
   "id": "b568ea86",
   "metadata": {},
   "source": [
    "# คำสั่ง\n",
    "- คะแนนควิซมีดังนี้ \n",
    "    - ข้อที่ 1-6 ข้อละ 2.5 คะแนน \n",
    "    - ข้อที่ 7 ข้อละ 5 คะแนน\n",
    "    - รวมทั้งหมด 20 คะแนน\n",
    "- อนุญาตให้เพื่อนช่วยเหลือกันได้ด้วยวิธีการของปัญญาชน สอนหรืออธิบายต่างๆ \n",
    "     หากพบมีการทุจริตหรือสงสัยว่ามีการทุจริต และผู้ถูกกล่าวหาว่าทุจริตไม่สามารถพิสูจน์ความบริสุทธิ์ได้ ไม่มีคะแนนในการควิซครั้งนั้น และหากพบว่ามีการร่วมือกัน พิจารณาหักคะแนนผู้สมรู้ร่วมคิด\n",
    "- เมื่อเวลาหมดลงหยุดการตรวจและส่งควิซทันที เพราะฉะนั้น **กรุณาบริหารเวลาให้ดี**"
   ]
  },
  {
   "cell_type": "markdown",
   "id": "c08c8b5f",
   "metadata": {
    "nbgrader": {
     "grade": false,
     "grade_id": "cell-42b96fd90064f955",
     "locked": true,
     "schema_version": 3,
     "solution": false,
     "task": false
    }
   },
   "source": [
    "### 0. สร้างหัวข้อ (Heading) ตามรูปแบบด้านล่าง\n",
    "    - 650710XXX-wednesday addams"
   ]
  },
  {
   "cell_type": "markdown",
   "id": "61c56162",
   "metadata": {
    "nbgrader": {
     "grade": false,
     "grade_id": "cell-5a0a5fce51c6f5d6",
     "locked": true,
     "schema_version": 3,
     "solution": false,
     "task": false
    }
   },
   "source": [
    "### 1. รับข้อความ \"Lueamsai\" ทางหน้าจอและพิมพ์ออกมา 300 ครั้งใน 1 บรรทัด"
   ]
  },
  {
   "cell_type": "code",
   "execution_count": 13,
   "id": "a992b527",
   "metadata": {
    "scrolled": true
   },
   "outputs": [
    {
     "name": "stdout",
     "output_type": "stream",
     "text": [
      "LueamsaiLueamsaiLueamsaiLueamsaiLueamsaiLueamsaiLueamsaiLueamsaiLueamsaiLueamsaiLueamsaiLueamsaiLueamsaiLueamsaiLueamsaiLueamsaiLueamsaiLueamsaiLueamsaiLueamsaiLueamsaiLueamsaiLueamsaiLueamsaiLueamsaiLueamsaiLueamsaiLueamsaiLueamsaiLueamsaiLueamsaiLueamsaiLueamsaiLueamsaiLueamsaiLueamsaiLueamsaiLueamsaiLueamsaiLueamsaiLueamsaiLueamsaiLueamsaiLueamsaiLueamsaiLueamsaiLueamsaiLueamsaiLueamsaiLueamsaiLueamsaiLueamsaiLueamsaiLueamsaiLueamsaiLueamsaiLueamsaiLueamsaiLueamsaiLueamsaiLueamsaiLueamsaiLueamsaiLueamsaiLueamsaiLueamsaiLueamsaiLueamsaiLueamsaiLueamsaiLueamsaiLueamsaiLueamsaiLueamsaiLueamsaiLueamsaiLueamsaiLueamsaiLueamsaiLueamsaiLueamsaiLueamsaiLueamsaiLueamsaiLueamsaiLueamsaiLueamsaiLueamsaiLueamsaiLueamsaiLueamsaiLueamsaiLueamsaiLueamsaiLueamsaiLueamsaiLueamsaiLueamsaiLueamsaiLueamsaiLueamsaiLueamsaiLueamsaiLueamsaiLueamsaiLueamsaiLueamsaiLueamsaiLueamsaiLueamsaiLueamsaiLueamsaiLueamsaiLueamsaiLueamsaiLueamsaiLueamsaiLueamsaiLueamsaiLueamsaiLueamsaiLueamsaiLueamsaiLueamsaiLueamsaiLueamsaiLueamsaiLueamsaiLueamsaiLueamsaiLueamsaiLueamsaiLueamsaiLueamsaiLueamsaiLueamsaiLueamsaiLueamsaiLueamsaiLueamsaiLueamsaiLueamsaiLueamsaiLueamsaiLueamsaiLueamsaiLueamsaiLueamsaiLueamsaiLueamsaiLueamsaiLueamsaiLueamsaiLueamsaiLueamsaiLueamsaiLueamsaiLueamsaiLueamsaiLueamsaiLueamsaiLueamsaiLueamsaiLueamsaiLueamsaiLueamsaiLueamsaiLueamsaiLueamsaiLueamsaiLueamsaiLueamsaiLueamsaiLueamsaiLueamsaiLueamsaiLueamsaiLueamsaiLueamsaiLueamsaiLueamsaiLueamsaiLueamsaiLueamsaiLueamsaiLueamsaiLueamsaiLueamsaiLueamsaiLueamsaiLueamsaiLueamsaiLueamsaiLueamsaiLueamsaiLueamsaiLueamsaiLueamsaiLueamsaiLueamsaiLueamsaiLueamsaiLueamsaiLueamsaiLueamsaiLueamsaiLueamsaiLueamsaiLueamsaiLueamsaiLueamsaiLueamsaiLueamsaiLueamsaiLueamsaiLueamsaiLueamsaiLueamsaiLueamsaiLueamsaiLueamsaiLueamsaiLueamsaiLueamsaiLueamsaiLueamsaiLueamsaiLueamsaiLueamsaiLueamsaiLueamsaiLueamsaiLueamsaiLueamsaiLueamsaiLueamsaiLueamsaiLueamsaiLueamsaiLueamsaiLueamsaiLueamsaiLueamsaiLueamsaiLueamsaiLueamsaiLueamsaiLueamsaiLueamsaiLueamsaiLueamsaiLueamsaiLueamsaiLueamsaiLueamsaiLueamsaiLueamsaiLueamsaiLueamsaiLueamsaiLueamsaiLueamsaiLueamsaiLueamsaiLueamsaiLueamsaiLueamsaiLueamsaiLueamsaiLueamsaiLueamsaiLueamsaiLueamsaiLueamsaiLueamsaiLueamsaiLueamsaiLueamsaiLueamsaiLueamsaiLueamsaiLueamsaiLueamsaiLueamsaiLueamsaiLueamsaiLueamsaiLueamsaiLueamsaiLueamsaiLueamsaiLueamsaiLueamsaiLueamsaiLueamsaiLueamsaiLueamsaiLueamsaiLueamsaiLueamsai\n"
     ]
    }
   ],
   "source": [
    "print(\"Lueamsai\"*300)"
   ]
  },
  {
   "cell_type": "markdown",
   "id": "beee0bdd",
   "metadata": {
    "nbgrader": {
     "grade": false,
     "grade_id": "cell-798e6b526c176fe2",
     "locked": true,
     "schema_version": 3,
     "solution": false,
     "task": false
    }
   },
   "source": [
    "### 2. พิมพ์ค่าที่อยู่ใน list ที่มีชื่อว่า jujutsu_kaisen_characters จากชื่อสุดท้ายไปชื่อแรก โดยแต่ละบรรทัดจะมีเพียง 1 ชื่อเท่านั้น"
   ]
  },
  {
   "cell_type": "code",
   "execution_count": 1,
   "id": "312af656",
   "metadata": {},
   "outputs": [],
   "source": [
    "jujutsu_kaisen_characters = [\n",
    "    \"Yuji Itadori\", \"Satoru Gojo\", \"Megumi Fushiguro\", \"Nobara Kugisaki\",\n",
    "    \"Suguru Geto\", \"Maki Zenin\", \"Panda\", \"Toge Inumaki\", \"Kento Nanami\",\n",
    "    \"Aoi Todo\", \"Mahito\", \"Kasumi Miwa\", \"Naoya Zenin\", \"Yuta Okkotsu\",\n",
    "    \"Yoshinobu Gakuganji\", \"Principal Yaga\", \"Awasaka\", \"Kokichi Muta\",\n",
    "    \"Kiyotaka Ijichi\", \"Kamo Family\", \"Yuki Tsukumo\", \"Momo Nishimiya\",\n",
    "    \"Yaga Orphanage Kids\", \"Masamichi Yaga\", \"Takuma Ino\", \"Noritoshi Kamo\",\n",
    "    \"Toji Fushiguro\", \"Junpei Yoshino\", \"Hanami\", \"Jogo\", \"Choso\",\n",
    "    \"Geto's Cursed Spirits\", \"Noritoshi Kamo's Cursed Corpse\", \"Yuta's Grandma\",\n",
    "    \"Kento's Students\", \"Shoko Ieiri\", \"Utahime Iori\", \"Mei Mei\",\n",
    "    \"Ogi Zenin\", \"Chojuro Zenin\", \"Naobito Zenin\", \"Naoya Zenin's Wife\",\n",
    "    \"Yuta's Friends\", \"Kiyotaka's Family\", \"Nanako Family\", \"Zennin Family\"\n",
    "]\n"
   ]
  },
  {
   "cell_type": "code",
   "execution_count": 33,
   "id": "698fe662",
   "metadata": {},
   "outputs": [
    {
     "name": "stdout",
     "output_type": "stream",
     "text": [
      "Zennin Family\n",
      "Nanako Family\n",
      "Kiyotaka's Family\n",
      "Yuta's Friends\n",
      "Naoya Zenin's Wife\n",
      "Naobito Zenin\n",
      "Chojuro Zenin\n",
      "Ogi Zenin\n",
      "Mei Mei\n",
      "Utahime Iori\n",
      "Shoko Ieiri\n",
      "Kento's Students\n",
      "Yuta's Grandma\n",
      "Noritoshi Kamo's Cursed Corpse\n",
      "Geto's Cursed Spirits\n",
      "Choso\n",
      "Jogo\n",
      "Hanami\n",
      "Junpei Yoshino\n",
      "Toji Fushiguro\n",
      "Noritoshi Kamo\n",
      "Takuma Ino\n",
      "Masamichi Yaga\n",
      "Yaga Orphanage Kids\n",
      "Momo Nishimiya\n",
      "Yuki Tsukumo\n",
      "Kamo Family\n",
      "Kiyotaka Ijichi\n",
      "Kokichi Muta\n",
      "Awasaka\n",
      "Principal Yaga\n",
      "Yoshinobu Gakuganji\n",
      "Yuta Okkotsu\n",
      "Naoya Zenin\n",
      "Kasumi Miwa\n",
      "Mahito\n",
      "Aoi Todo\n",
      "Kento Nanami\n",
      "Toge Inumaki\n",
      "Panda\n",
      "Maki Zenin\n",
      "Suguru Geto\n",
      "Nobara Kugisaki\n",
      "Megumi Fushiguro\n",
      "Satoru Gojo\n",
      "Yuji Itadori\n"
     ]
    }
   ],
   "source": [
    "for i in jujutsu_kaisen_characters[::-1]:\n",
    "    print(i)"
   ]
  },
  {
   "cell_type": "markdown",
   "id": "c73a0b2f",
   "metadata": {
    "nbgrader": {
     "grade": false,
     "grade_id": "cell-19676faa0ee93fbf",
     "locked": true,
     "schema_version": 3,
     "solution": false,
     "task": false
    }
   },
   "source": [
    "### 3. จงตรวจสอบชนิดของข้อมูลในตัวแปร text4 "
   ]
  },
  {
   "cell_type": "code",
   "execution_count": 2,
   "id": "cf4eadb6",
   "metadata": {
    "nbgrader": {
     "grade": false,
     "grade_id": "cell-e549f0a936481ccc",
     "locked": true,
     "schema_version": 3,
     "solution": false,
     "task": false
    }
   },
   "outputs": [],
   "source": [
    "text4 = \"The best preparation for tomorrow is doing your best today.\""
   ]
  },
  {
   "cell_type": "code",
   "execution_count": 32,
   "id": "9a7652f7",
   "metadata": {},
   "outputs": [
    {
     "data": {
      "text/plain": [
       "str"
      ]
     },
     "execution_count": 32,
     "metadata": {},
     "output_type": "execute_result"
    }
   ],
   "source": [
    "type(text4)"
   ]
  },
  {
   "cell_type": "markdown",
   "id": "891df9d1",
   "metadata": {
    "nbgrader": {
     "grade": false,
     "grade_id": "cell-528aabcb2087eb90",
     "locked": true,
     "schema_version": 3,
     "solution": false,
     "task": false
    }
   },
   "source": [
    "# 4. คำนวณพลังธาตุภายในร่างกายมี\n",
    "\n",
    ">earth (ดิน)\n",
    "water (น้ำ)\n",
    "wind (ลม)\n",
    "fire (ไฟ) \n",
    "แล้วก็ ก๋วยเตี๋ยว !!!\n",
    "\n",
    "โดยมี\n",
    "- earth  เป็น 1/2 ของ water\n",
    "- water เป็น 1/4 ของ wind\n",
    "- wind เป็น 2 เท่าของ fire\n",
    "- fire เท่ากับ 5 \n",
    "- ก๋วยเตี๋ยว = earth+water+wind+fire \n",
    "\n",
    "*จงแสดงค่าของก๋วยเตี๋ยว*\n",
    "\n",
    "ตัวอย่าง\n",
    "ถ้าก๋วยเตี๋ยว=  100 \n",
    "print(100)\n",
    "\n"
   ]
  },
  {
   "cell_type": "code",
   "execution_count": 31,
   "id": "a6b4cd6e",
   "metadata": {},
   "outputs": [
    {
     "name": "stdout",
     "output_type": "stream",
     "text": [
      "18.75\n"
     ]
    }
   ],
   "source": [
    "fire = 5\n",
    "wind = fire * 2\n",
    "water = wind/4\n",
    "earth = water/2\n",
    "Noodle = earth + water + wind + fire\n",
    "print(Noodle)"
   ]
  },
  {
   "cell_type": "markdown",
   "id": "9685fb5e",
   "metadata": {
    "nbgrader": {
     "grade": false,
     "grade_id": "cell-af70732745590d95",
     "locked": true,
     "schema_version": 3,
     "solution": false,
     "task": false
    }
   },
   "source": [
    "### 5. จงตรวจสอบชนิดของข้อมูลในตัวแปร thislist และ thislist index ที่ 10 "
   ]
  },
  {
   "cell_type": "code",
   "execution_count": 3,
   "id": "8af5ac36",
   "metadata": {
    "nbgrader": {
     "grade": false,
     "grade_id": "cell-5fd545b27199c83c",
     "locked": true,
     "schema_version": 3,
     "solution": false,
     "task": false
    }
   },
   "outputs": [],
   "source": [
    "thislist = ['🎉', 'G', 'N', 'C', 'Hello', 3.14, 'E', '🌈', 'J', 'B', '🤖', '🚀', 'A', True, 'M', 'I', 'F', 'L', 42]"
   ]
  },
  {
   "cell_type": "code",
   "execution_count": 28,
   "id": "2fe8b15e",
   "metadata": {
    "scrolled": true
   },
   "outputs": [
    {
     "name": "stdout",
     "output_type": "stream",
     "text": [
      "<class 'str'>\n",
      "<class 'str'>\n",
      "<class 'str'>\n",
      "<class 'str'>\n",
      "<class 'str'>\n",
      "<class 'float'>\n",
      "<class 'str'>\n",
      "<class 'str'>\n",
      "<class 'str'>\n",
      "<class 'str'>\n",
      "<class 'str'>\n",
      "<class 'str'>\n",
      "<class 'str'>\n",
      "<class 'bool'>\n",
      "<class 'str'>\n",
      "<class 'str'>\n",
      "<class 'str'>\n",
      "<class 'str'>\n",
      "<class 'int'>\n"
     ]
    },
    {
     "data": {
      "text/plain": [
       "str"
      ]
     },
     "execution_count": 28,
     "metadata": {},
     "output_type": "execute_result"
    }
   ],
   "source": [
    "for i in thislist:\n",
    "    print(type(i))\n",
    "type(thislist[10])    "
   ]
  },
  {
   "cell_type": "markdown",
   "id": "2db41c54",
   "metadata": {},
   "source": [
    "### 6.จงเขียนโปรแกรมหาผลลัพธ์จากตัวแปร text"
   ]
  },
  {
   "cell_type": "code",
   "execution_count": 4,
   "id": "34d0126f",
   "metadata": {},
   "outputs": [],
   "source": [
    "x = 500\n",
    "y = 121\n",
    "z = 44\n",
    "setNum = [1,2,3,4,5,6,7,8,9,9,8,7,6,5,4,3,2,1]\n",
    "\n",
    "text = \"int(y*(x+5+5*5-5)+(z**3)+sum(setNum))\""
   ]
  },
  {
   "cell_type": "code",
   "execution_count": 29,
   "id": "05d7b315",
   "metadata": {},
   "outputs": [
    {
     "name": "stdout",
     "output_type": "stream",
     "text": [
      "148799\n"
     ]
    }
   ],
   "source": [
    "print(eval(text))"
   ]
  },
  {
   "cell_type": "markdown",
   "id": "8bb43686",
   "metadata": {},
   "source": [
    " ### 7. จงเขียนโปรงแกรมเรียงจัดเรียงตัวอักษรใหม่ \n",
    "โดยนับตัวอักษรจากตำแหน่งแรกของลิสต์ star ต่อด้วยตัวอักษรจากตำแหน่งสุดท้ายของลิสต์ wars \n",
    "และขยับตำแหน่งของลิสต์ star ขึ้น 1 ตำแหน่ง ในขณะเดียวกับก็ลดตำแหน่งของลิสต์ war ลง 1 ตำแหน่ง\n",
    "แล้วจึงจัดเรียงต่อกันทำเช่นนี้จนครบทุกตำแหน่งของลิตส์ทั้งสอง\n",
    "\n",
    "ตัวอย่าง\n",
    "```python\n",
    "     star = ['s','t','a','r']\n",
    "     wars = ['w','a','r','s']\n",
    "\n",
    "output\n",
    "     sstraarw\n",
    "```"
   ]
  },
  {
   "cell_type": "code",
   "execution_count": 5,
   "id": "a13d03c5",
   "metadata": {},
   "outputs": [],
   "source": [
    "star = ['D', ',', 'o', ' ', 'o', 'n', 't', ' ', 'h', 'r', ' ', 's', 'n', ' ', 't', 'y', '.']"
   ]
  },
  {
   "cell_type": "code",
   "execution_count": 6,
   "id": "27aa4899",
   "metadata": {},
   "outputs": [],
   "source": [
    "wars = ['”', 'r', '“', 'o', ' ', 'i', 'e', 'e', 'T', '.', 'o', ' ', 'd', 'r', ' ', 'o']"
   ]
  },
  {
   "cell_type": "code",
   "execution_count": 35,
   "id": "015b443c",
   "metadata": {
    "scrolled": true
   },
   "outputs": [
    {
     "name": "stdout",
     "output_type": "stream",
     "text": [
      "Do, or do not. There is no “try”\n"
     ]
    }
   ],
   "source": [
    "text=\"\"\n",
    "for i,j in zip(star,wars[::-1]):\n",
    "    text+=i+j   \n",
    "print(text)"
   ]
  },
  {
   "cell_type": "code",
   "execution_count": null,
   "id": "25893802",
   "metadata": {},
   "outputs": [],
   "source": []
  }
 ],
 "metadata": {
  "celltoolbar": "Create Assignment",
  "kernelspec": {
   "display_name": "Python 3 (ipykernel)",
   "language": "python",
   "name": "python3"
  },
  "language_info": {
   "codemirror_mode": {
    "name": "ipython",
    "version": 3
   },
   "file_extension": ".py",
   "mimetype": "text/x-python",
   "name": "python",
   "nbconvert_exporter": "python",
   "pygments_lexer": "ipython3",
   "version": "3.11.5"
  }
 },
 "nbformat": 4,
 "nbformat_minor": 5
}
