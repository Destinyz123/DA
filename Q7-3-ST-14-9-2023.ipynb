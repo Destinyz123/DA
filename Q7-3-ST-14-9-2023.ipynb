{
 "cells": [
  {
   "cell_type": "markdown",
   "metadata": {},
   "source": [
    "Read CSV Dating.csv"
   ]
  },
  {
   "cell_type": "code",
   "execution_count": 7,
   "metadata": {},
   "outputs": [],
   "source": [
    "import pandas as pd\n",
    "import numpy as np\n",
    "from sklearn.naive_bayes import GaussianNB\n",
    "from sklearn.neighbors import KNeighborsClassifier"
   ]
  },
  {
   "cell_type": "code",
   "execution_count": 9,
   "metadata": {},
   "outputs": [
    {
     "name": "stdout",
     "output_type": "stream",
     "text": [
      "      outlook temperature humidity   windy Money  Gender Dating\n",
      "0       rainy        mild     high    weak    No    male    Yes\n",
      "1       sunny        cool   normal  strong   Yes    male    Yes\n",
      "2    overcast         hot   normal  strong    No  female    Yes\n",
      "3       sunny        mild     high    weak   Yes  female     No\n",
      "4       sunny        cool     high  strong    No  female    Yes\n",
      "..        ...         ...      ...     ...   ...     ...    ...\n",
      "995  overcast         hot     high    weak   Yes    male    Yes\n",
      "996     sunny        mild   normal    weak    No    male    Yes\n",
      "997     rainy        mild     high  strong    No    male     No\n",
      "998  overcast        mild   normal    weak   Yes  female     No\n",
      "999  overcast         hot   normal  strong   Yes    male    Yes\n",
      "\n",
      "[1000 rows x 7 columns]\n"
     ]
    }
   ],
   "source": [
    "Dating = pd.read_csv('Dating.csv')\n",
    "print(Dating)"
   ]
  },
  {
   "cell_type": "markdown",
   "metadata": {},
   "source": [
    "Converting string labels into numbers (Import LabelEncoder)"
   ]
  },
  {
   "cell_type": "code",
   "execution_count": 10,
   "metadata": {
    "id": "VL_oqQI0m6rr",
    "outputId": "f9285ec1-3d40-47b1-a291-cfb2e0c6d233"
   },
   "outputs": [
    {
     "name": "stdout",
     "output_type": "stream",
     "text": [
      "     outlook  temperature  humidity  windy  Money  Gender Dating\n",
      "0          1            2         0      1      0       1    Yes\n",
      "1          2            0         1      0      1       1    Yes\n",
      "2          0            1         1      0      0       0    Yes\n",
      "3          2            2         0      1      1       0     No\n",
      "4          2            0         0      0      0       0    Yes\n",
      "..       ...          ...       ...    ...    ...     ...    ...\n",
      "995        0            1         0      1      1       1    Yes\n",
      "996        2            2         1      1      0       1    Yes\n",
      "997        1            2         0      0      0       1     No\n",
      "998        0            2         1      1      1       0     No\n",
      "999        0            1         1      0      1       1    Yes\n",
      "\n",
      "[1000 rows x 7 columns]\n"
     ]
    }
   ],
   "source": [
    "# encode temp and play columns.\n",
    "# Converting string labels into numbers\n",
    "\n",
    "# Import LabelEncoder\n",
    "from sklearn import preprocessing\n",
    "\n",
    "#creating labelEncoder\n",
    "number = preprocessing.LabelEncoder()\n",
    "\n",
    "\n",
    "Dating['outlook'] = number.fit_transform(Dating['outlook'])\n",
    "Dating['temperature'] = number.fit_transform(Dating['temperature'])\n",
    "Dating['humidity'] = number.fit_transform(Dating['humidity'])\n",
    "Dating['windy'] = number.fit_transform(Dating['windy'])\n",
    "Dating['Money'] = number.fit_transform(Dating['Money'])\n",
    "Dating['Gender'] = number.fit_transform(Dating['Gender'])\n",
    "#Dating['Dating'] = number.fit_transform(Dating['Dating'])\n",
    "\n",
    "print(Dating)"
   ]
  },
  {
   "cell_type": "markdown",
   "metadata": {
    "id": "hAcBQm-Wm6rs"
   },
   "source": [
    "sklearn library, which can be found in sklearn.naive_bayes:\n",
    "\n",
    "sklearn.naive_bayes.CategoricalNB: \n",
    "    for using Naive Bayes on categorical predictor variables.\n",
    "            \n",
    "sklearn.naive_bayes.GaussianNB: \n",
    "    for Naive Bayes on numerical predictor variables, with the assumption \n",
    "    that these variables follow Gaussian distribution.\n",
    "    \n",
    "sklearn.naive_bayes.MultinomialNB: \n",
    "    the predictor variables represent the counts, a popular application \n",
    "    is in text classification. Fractional counts like tf-idf may also work.\n",
    "    \n",
    "sklearn.naive_bayes.ComplementNB: \n",
    "    A modification of MultinomialNB which is suitable for imbalanced datasets.\n",
    "    \n",
    "sklearn.naive_bayes.BernoulliNB: \n",
    "    assumes the data follows Bernoulli distribution (i.e. possible values of \n",
    "    predictor variables are 0 and 1)."
   ]
  },
  {
   "cell_type": "code",
   "execution_count": 14,
   "metadata": {
    "id": "-Mi-7lqAm6rw",
    "outputId": "29f2e0a6-8e32-455f-b6e3-db4f09cc9903"
   },
   "outputs": [
    {
     "name": "stdout",
     "output_type": "stream",
     "text": [
      "Predicted Value: ['Yes']\n"
     ]
    },
    {
     "name": "stderr",
     "output_type": "stream",
     "text": [
      "C:\\Users\\user\\anaconda3\\Lib\\site-packages\\sklearn\\base.py:464: UserWarning: X does not have valid feature names, but GaussianNB was fitted with feature names\n",
      "  warnings.warn(\n"
     ]
    }
   ],
   "source": [
    "#Import Library of Naive Bayes\n",
    "from sklearn.naive_bayes import GaussianNB\n",
    "\n",
    "#Create a Gaussian Classifier\n",
    "Ga_NB_model = GaussianNB()\n",
    "\n",
    "# Train the model using the training sets\n",
    "Ga_NB_model.fit(Dating[['outlook','temperature','humidity','windy','Money','Gender']] , Dating['Dating'])\n",
    "\n",
    "# sunny,hot,high,weak,Yes,female\n",
    "\n",
    "#Predict Output\n",
    "predicted= Ga_NB_model.predict([[2,1,0,1,1,0]])\n",
    "print(\"Predicted Value:\", predicted)"
   ]
  },
  {
   "cell_type": "code",
   "execution_count": 13,
   "metadata": {},
   "outputs": [
    {
     "name": "stdout",
     "output_type": "stream",
     "text": [
      "Predicted Value: ['No']\n"
     ]
    },
    {
     "name": "stderr",
     "output_type": "stream",
     "text": [
      "C:\\Users\\user\\anaconda3\\Lib\\site-packages\\sklearn\\base.py:464: UserWarning: X does not have valid feature names, but BernoulliNB was fitted with feature names\n",
      "  warnings.warn(\n"
     ]
    }
   ],
   "source": [
    "#Import Library of Naive Bayes\n",
    "from sklearn.naive_bayes import BernoulliNB\n",
    "\n",
    "#Create a Categorical Classifier\n",
    "B_NB_model = BernoulliNB()\n",
    "\n",
    "# Train the model using the training sets\n",
    "B_NB_model.fit(Dating[['outlook','temperature','humidity','windy','Money','Gender']] , Dating['Dating'])\n",
    "# overcast,hot,high,weak,Yes,female\n",
    "\n",
    "#Predict Output\n",
    "predicted= B_NB_model.predict([[0,1,0,1,1,0]])\n",
    "print(\"Predicted Value:\", predicted)"
   ]
  },
  {
   "cell_type": "code",
   "execution_count": null,
   "metadata": {},
   "outputs": [],
   "source": []
  }
 ],
 "metadata": {
  "colab": {
   "provenance": []
  },
  "kernelspec": {
   "display_name": "Python 3 (ipykernel)",
   "language": "python",
   "name": "python3"
  },
  "language_info": {
   "codemirror_mode": {
    "name": "ipython",
    "version": 3
   },
   "file_extension": ".py",
   "mimetype": "text/x-python",
   "name": "python",
   "nbconvert_exporter": "python",
   "pygments_lexer": "ipython3",
   "version": "3.11.5"
  }
 },
 "nbformat": 4,
 "nbformat_minor": 4
}
