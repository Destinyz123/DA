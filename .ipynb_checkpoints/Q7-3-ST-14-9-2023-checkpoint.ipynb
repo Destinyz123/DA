{
 "cells": [
  {
   "cell_type": "markdown",
   "metadata": {},
   "source": [
    "Read CSV Dating.csv"
   ]
  },
  {
   "cell_type": "markdown",
   "metadata": {},
   "source": [
    "Converting string labels into numbers (Import LabelEncoder)"
   ]
  },
  {
   "cell_type": "code",
   "execution_count": null,
   "metadata": {
    "id": "VL_oqQI0m6rr",
    "outputId": "f9285ec1-3d40-47b1-a291-cfb2e0c6d233"
   },
   "outputs": [],
   "source": [
    "# encode temp and play columns.\n",
    "# Converting string labels into numbers\n",
    "\n",
    "# Import LabelEncoder\n",
    "\n",
    "\n",
    "#creating labelEncoder\n",
    "number =\n",
    "\n",
    "\n",
    "#play_tennis['play'] = number.fit_transform(play_tennis['play'])\n",
    "\n",
    "print(df)"
   ]
  },
  {
   "cell_type": "markdown",
   "metadata": {
    "id": "hAcBQm-Wm6rs"
   },
   "source": [
    "sklearn library, which can be found in sklearn.naive_bayes:\n",
    "\n",
    "sklearn.naive_bayes.CategoricalNB: \n",
    "    for using Naive Bayes on categorical predictor variables.\n",
    "            \n",
    "sklearn.naive_bayes.GaussianNB: \n",
    "    for Naive Bayes on numerical predictor variables, with the assumption \n",
    "    that these variables follow Gaussian distribution.\n",
    "    \n",
    "sklearn.naive_bayes.MultinomialNB: \n",
    "    the predictor variables represent the counts, a popular application \n",
    "    is in text classification. Fractional counts like tf-idf may also work.\n",
    "    \n",
    "sklearn.naive_bayes.ComplementNB: \n",
    "    A modification of MultinomialNB which is suitable for imbalanced datasets.\n",
    "    \n",
    "sklearn.naive_bayes.BernoulliNB: \n",
    "    assumes the data follows Bernoulli distribution (i.e. possible values of \n",
    "    predictor variables are 0 and 1)."
   ]
  },
  {
   "cell_type": "code",
   "execution_count": null,
   "metadata": {
    "id": "-Mi-7lqAm6rw",
    "outputId": "29f2e0a6-8e32-455f-b6e3-db4f09cc9903"
   },
   "outputs": [],
   "source": [
    "#Import Library of Naive Bayes\n",
    "\n",
    "\n",
    "#Create a Gaussian Classifier\n",
    "Ga_NB_model = \n",
    "\n",
    "# Train the model using the training sets\n",
    "\n",
    "\n",
    "# sunny,hot,high,weak,Yes,female\n",
    "\n",
    "#Predict Output\n",
    "predicted= \n",
    "print(\"Predicted Value:\", predicted)"
   ]
  },
  {
   "cell_type": "code",
   "execution_count": null,
   "metadata": {},
   "outputs": [],
   "source": [
    "#Import Library of Naive Bayes\n",
    "\n",
    "\n",
    "#Create a Categorical Classifier\n",
    "Cat_NB_model = \n",
    "\n",
    "# Train the model using the training sets\n",
    "\n",
    "# overcast,hot,high,weak,Yes,female\n",
    "\n",
    "#Predict Output\n",
    "predicted= \n",
    "print(\"Predicted Value:\", predicted)"
   ]
  },
  {
   "cell_type": "code",
   "execution_count": null,
   "metadata": {},
   "outputs": [],
   "source": []
  }
 ],
 "metadata": {
  "colab": {
   "provenance": []
  },
  "kernelspec": {
   "display_name": "Python 3 (ipykernel)",
   "language": "python",
   "name": "python3"
  },
  "language_info": {
   "codemirror_mode": {
    "name": "ipython",
    "version": 3
   },
   "file_extension": ".py",
   "mimetype": "text/x-python",
   "name": "python",
   "nbconvert_exporter": "python",
   "pygments_lexer": "ipython3",
   "version": "3.10.8"
  }
 },
 "nbformat": 4,
 "nbformat_minor": 1
}
