{
 "cells": [
  {
   "cell_type": "markdown",
   "id": "6a12b21e",
   "metadata": {
    "id": "6a12b21e"
   },
   "source": [
    "# คำสั่ง\n",
    "- คะแนนควิซจะมีเพียง 2 แบบคือ 10 คะแนน และ 20 คะแนน\n",
    "     - 10 คะแนน เมื่อทำควิซได้ 50% ขึ้นไป (ตามดุลยพินิจของ พี่ Lab)\n",
    "     - 20 คะแนน เมื่อทำควิซได้ 100% (ถูกต้องและสมบูรณ์)\n",
    "        *หมายเหตุ คิดตามความยากไม่ใช่จำนวนข้อ\n",
    "- อนุญาตให้เพื่อนช่วยเหลือกันได้ด้วยวิธีการของปัญญาชน สอนหรืออธิบายต่างๆ\n",
    "     หากพบมีการทุจริตหรือสงสัยว่ามีการทุจริต และผู้ถูกกล่าวหาว่าทุจริตไม่สามารถพิสูจน์ความบริสุทธิ์ได้ ไม่มีคะแนนในการควิซครั้งนั้น และหากพบว่ามีการร่วมือกัน พิจารณาหักคะแนนผู้สมรู้ร่วมคิด\n",
    "- สามารถเรียก พี่ Lab มาตรวจควิซของตนเองได้เมื่อพร้อม หากไม่ได้เรียกพี่ Lab มาตรวจเท่ากับไม่ได้ส่งควิซ\n",
    "- เมื่อเวลาหมดลงหยุดการตรวจและส่งควิซทันที เพราะฉะนั้น **กรุณาบริหารเวลาให้ดี**"
   ]
  },
  {
   "cell_type": "markdown",
   "id": "922dd82d",
   "metadata": {
    "id": "922dd82d"
   },
   "source": [
    "# รหัสนักศึกษา-ชื่อ-นามสกุล (Heading)"
   ]
  },
  {
   "cell_type": "markdown",
   "id": "bd6fcdfd",
   "metadata": {},
   "source": [
    "# 650710551-ธนันธร-พจนาวงษ์พานิช"
   ]
  },
  {
   "cell_type": "markdown",
   "id": "2c1b49f2",
   "metadata": {
    "id": "2c1b49f2"
   },
   "source": [
    "ในการทำแบบฝึกหัดให้เพิ่ม cell ด้านล่างของโจทย์เพื่อเขียน code และแสดงให้เห็นถึงความเปลี่ยนแปลงผ่านทาง output แม้ไม่มีคำสั่งในแสดงผลก็ตาม"
   ]
  },
  {
   "cell_type": "markdown",
   "id": "9ff829b2",
   "metadata": {
    "id": "9ff829b2"
   },
   "source": [
    "สร้าง list เพื่อเก็บชื่อมหาวิทยาลัยในประเทศไทย\n",
    "'Bunditpatanasilpa Institute', 'Kalasin University', 'Mahasarakham University', 'Nakhon Phanom University', 'Naresuan University', 'Pathumwan Institute of Technology', 'Praboromarajchanok Institute', 'Princess of Naradhiwas University', 'Ramkhamhaeng University', 'Sukhothai Thammathirat Open University', 'Thailand National Sports University', 'Ubon Ratchathani University', 'Burapha University', 'Chiang Mai University', 'Chulalongkorn University', 'Chulabhorn Graduate Institute', 'HRH Princess Chulabhorn College of Medical Science', 'Kasetsart University', 'Khon Kaen University', \"King Mongkut's Institute of Technology Ladkrabang\", \"King Mongkut's University of Technology North Bangkok\", \"King Mongkut's University of Technology Thonburi\", 'Mae Fah Luang University', 'Maejo University', 'Mahachulalongkornrajavidyalaya University', 'Mahamakut Buddhist University', 'Mahidol University', 'National Institute of Development Administration (NIDA)', 'Navamindradhiraj University', 'University of Phayao', 'Prince of Songkla University', 'Princess Galyani Vadhana Institute of Music', 'Srinakharinwirot University', 'Srisavarindhira Thai Red Cross Institute of Nursing', 'Suan Dusit University', 'Suranaree University of Technology', 'Thaksin University', 'Thammasat University', 'Walailak University', 'Chitralada Technology Institute', 'National Defence College', 'Command and General staff College', 'Phramongkutklao College of Medicine', 'Police Nursing College', 'Judge Advocate General School Thailand', 'Royal Thai Navy College of Nursing', 'Royal Thai Air Force Nursing College', 'Chulachomklao Royal Military Academy', 'Royal Thai Navy Academy', 'Navaminda Kasatriyadhiraj Royal Thai Air Force Academy', 'Royal Police Cadet Academy', 'Civil Aviation Training Center', 'Irrigation College', 'Merchant Marine Training Center', 'Supervisory Unit'"
   ]
  },
  {
   "cell_type": "markdown",
   "id": "079c4d15",
   "metadata": {
    "id": "079c4d15"
   },
   "source": [
    "1.พิมพ์ขนาดของ List ที่สร้าง"
   ]
  },
  {
   "cell_type": "code",
   "execution_count": 2,
   "id": "20ddc6fa",
   "metadata": {},
   "outputs": [
    {
     "name": "stdout",
     "output_type": "stream",
     "text": [
      "55\n"
     ]
    }
   ],
   "source": [
    "thislist = ['Bunditpatanasilpa Institute', 'Kalasin University', 'Mahasarakham University', 'Nakhon Phanom University', 'Naresuan University', 'Pathumwan Institute of Technology', 'Praboromarajchanok Institute', 'Princess of Naradhiwas University', 'Ramkhamhaeng University', 'Sukhothai Thammathirat Open University', 'Thailand National Sports University', 'Ubon Ratchathani University', 'Burapha University', 'Chiang Mai University', 'Chulalongkorn University', 'Chulabhorn Graduate Institute', 'HRH Princess Chulabhorn College of Medical Science', 'Kasetsart University', 'Khon Kaen University', \"King Mongkut's Institute of Technology Ladkrabang\", \"King Mongkut's University of Technology North Bangkok\", \"King Mongkut's University of Technology Thonburi\", 'Mae Fah Luang University', 'Maejo University', 'Mahachulalongkornrajavidyalaya University', 'Mahamakut Buddhist University', 'Mahidol University', 'National Institute of Development Administration (NIDA)', 'Navamindradhiraj University', 'University of Phayao', 'Prince of Songkla University', 'Princess Galyani Vadhana Institute of Music', 'Srinakharinwirot University', 'Srisavarindhira Thai Red Cross Institute of Nursing', 'Suan Dusit University', 'Suranaree University of Technology', 'Thaksin University', 'Thammasat University', 'Walailak University', 'Chitralada Technology Institute', 'National Defence College', 'Command and General staff College', 'Phramongkutklao College of Medicine', 'Police Nursing College', 'Judge Advocate General School Thailand', 'Royal Thai Navy College of Nursing', 'Royal Thai Air Force Nursing College', 'Chulachomklao Royal Military Academy', 'Royal Thai Navy Academy', 'Navaminda Kasatriyadhiraj Royal Thai Air Force Academy', 'Royal Police Cadet Academy', 'Civil Aviation Training Center', 'Irrigation College', 'Merchant Marine Training Center', 'Supervisory Unit']\n",
    "print(len(thislist))"
   ]
  },
  {
   "cell_type": "markdown",
   "id": "0c9e4bb9",
   "metadata": {
    "id": "0c9e4bb9"
   },
   "source": [
    "2.เพิ่มข้อมูล 'Silpakorn University' ต่อจาก index(ตำแหน่ง) สุดท้ายเก็บไว้ใน List ที่สร้าง"
   ]
  },
  {
   "cell_type": "code",
   "execution_count": 3,
   "id": "bc775dce",
   "metadata": {},
   "outputs": [
    {
     "data": {
      "text/plain": [
       "['Bunditpatanasilpa Institute',\n",
       " 'Kalasin University',\n",
       " 'Mahasarakham University',\n",
       " 'Nakhon Phanom University',\n",
       " 'Naresuan University',\n",
       " 'Pathumwan Institute of Technology',\n",
       " 'Praboromarajchanok Institute',\n",
       " 'Princess of Naradhiwas University',\n",
       " 'Ramkhamhaeng University',\n",
       " 'Sukhothai Thammathirat Open University',\n",
       " 'Thailand National Sports University',\n",
       " 'Ubon Ratchathani University',\n",
       " 'Burapha University',\n",
       " 'Chiang Mai University',\n",
       " 'Chulalongkorn University',\n",
       " 'Chulabhorn Graduate Institute',\n",
       " 'HRH Princess Chulabhorn College of Medical Science',\n",
       " 'Kasetsart University',\n",
       " 'Khon Kaen University',\n",
       " \"King Mongkut's Institute of Technology Ladkrabang\",\n",
       " \"King Mongkut's University of Technology North Bangkok\",\n",
       " \"King Mongkut's University of Technology Thonburi\",\n",
       " 'Mae Fah Luang University',\n",
       " 'Maejo University',\n",
       " 'Mahachulalongkornrajavidyalaya University',\n",
       " 'Mahamakut Buddhist University',\n",
       " 'Mahidol University',\n",
       " 'National Institute of Development Administration (NIDA)',\n",
       " 'Navamindradhiraj University',\n",
       " 'University of Phayao',\n",
       " 'Prince of Songkla University',\n",
       " 'Princess Galyani Vadhana Institute of Music',\n",
       " 'Srinakharinwirot University',\n",
       " 'Srisavarindhira Thai Red Cross Institute of Nursing',\n",
       " 'Suan Dusit University',\n",
       " 'Suranaree University of Technology',\n",
       " 'Thaksin University',\n",
       " 'Thammasat University',\n",
       " 'Walailak University',\n",
       " 'Chitralada Technology Institute',\n",
       " 'National Defence College',\n",
       " 'Command and General staff College',\n",
       " 'Phramongkutklao College of Medicine',\n",
       " 'Police Nursing College',\n",
       " 'Judge Advocate General School Thailand',\n",
       " 'Royal Thai Navy College of Nursing',\n",
       " 'Royal Thai Air Force Nursing College',\n",
       " 'Chulachomklao Royal Military Academy',\n",
       " 'Royal Thai Navy Academy',\n",
       " 'Navaminda Kasatriyadhiraj Royal Thai Air Force Academy',\n",
       " 'Royal Police Cadet Academy',\n",
       " 'Civil Aviation Training Center',\n",
       " 'Irrigation College',\n",
       " 'Merchant Marine Training Center',\n",
       " 'Supervisory Unit',\n",
       " 'Silpakorn University']"
      ]
     },
     "execution_count": 3,
     "metadata": {},
     "output_type": "execute_result"
    }
   ],
   "source": [
    "thislist.append('Silpakorn University')\n",
    "thislist"
   ]
  },
  {
   "cell_type": "markdown",
   "id": "3c512f72",
   "metadata": {
    "id": "3c512f72"
   },
   "source": [
    "3.พิมพ์ข้อมูลที่อยู่ใน List ที่สร้างทุกตัว"
   ]
  },
  {
   "cell_type": "code",
   "execution_count": 4,
   "id": "8b701992",
   "metadata": {},
   "outputs": [
    {
     "name": "stdout",
     "output_type": "stream",
     "text": [
      "['Bunditpatanasilpa Institute', 'Kalasin University', 'Mahasarakham University', 'Nakhon Phanom University', 'Naresuan University', 'Pathumwan Institute of Technology', 'Praboromarajchanok Institute', 'Princess of Naradhiwas University', 'Ramkhamhaeng University', 'Sukhothai Thammathirat Open University', 'Thailand National Sports University', 'Ubon Ratchathani University', 'Burapha University', 'Chiang Mai University', 'Chulalongkorn University', 'Chulabhorn Graduate Institute', 'HRH Princess Chulabhorn College of Medical Science', 'Kasetsart University', 'Khon Kaen University', \"King Mongkut's Institute of Technology Ladkrabang\", \"King Mongkut's University of Technology North Bangkok\", \"King Mongkut's University of Technology Thonburi\", 'Mae Fah Luang University', 'Maejo University', 'Mahachulalongkornrajavidyalaya University', 'Mahamakut Buddhist University', 'Mahidol University', 'National Institute of Development Administration (NIDA)', 'Navamindradhiraj University', 'University of Phayao', 'Prince of Songkla University', 'Princess Galyani Vadhana Institute of Music', 'Srinakharinwirot University', 'Srisavarindhira Thai Red Cross Institute of Nursing', 'Suan Dusit University', 'Suranaree University of Technology', 'Thaksin University', 'Thammasat University', 'Walailak University', 'Chitralada Technology Institute', 'National Defence College', 'Command and General staff College', 'Phramongkutklao College of Medicine', 'Police Nursing College', 'Judge Advocate General School Thailand', 'Royal Thai Navy College of Nursing', 'Royal Thai Air Force Nursing College', 'Chulachomklao Royal Military Academy', 'Royal Thai Navy Academy', 'Navaminda Kasatriyadhiraj Royal Thai Air Force Academy', 'Royal Police Cadet Academy', 'Civil Aviation Training Center', 'Irrigation College', 'Merchant Marine Training Center', 'Supervisory Unit', 'Silpakorn University']\n"
     ]
    }
   ],
   "source": [
    "print(thislist)"
   ]
  },
  {
   "cell_type": "markdown",
   "id": "9e15e6ed",
   "metadata": {
    "id": "9e15e6ed"
   },
   "source": [
    "สร้าง set จากรายชื่อสาขาวิชา\n",
    "\n",
    "    \"Research Science\",\n",
    "    \"Education\",\n",
    "    \"Communication Arts\",\n",
    "    \"Architecture\",\n",
    "    \"Fine Arts\",\n",
    "    \"Science\",\n",
    "    \"Political Science\",\n",
    "    \"Business Administration\",\n",
    "    \"International College\",\n",
    "    \"Veterinary Science\",\n",
    "    \"Pharmacy\",\n",
    "    \"Innovation in Tourism\",\n",
    "    \"Environmental Science\",\n",
    "    \"Sports Science\",\n",
    "    \"Education\",\n"
   ]
  },
  {
   "cell_type": "code",
   "execution_count": 24,
   "id": "4ccc04ac",
   "metadata": {},
   "outputs": [],
   "source": [
    "thisset={\"Research Science\",\n",
    "\"Education\",\n",
    "\"Communication Arts\",\n",
    "\"Architecture\",\n",
    "\"Fine Arts\",\n",
    "\"Science\",\n",
    "\"Political Science\",\n",
    "\"Business Administration\",\n",
    "\"International College\",\n",
    "\"Veterinary Science\",\n",
    "\"Pharmacy\",\n",
    "\"Innovation in Tourism\",\n",
    "\"Environmental Science\",\n",
    "\"Sports Science\",\n",
    "\"Education\",}"
   ]
  },
  {
   "cell_type": "markdown",
   "id": "6d9fb978",
   "metadata": {
    "id": "6d9fb978"
   },
   "source": [
    "4.เพิ่ม\n",
    "  \n",
    "\n",
    "```\n",
    "\"Computer Science\"\n",
    "\"Information Technology\"\n",
    "```\n",
    "\n",
    "\n",
    "เข้าไปใน set ของสาขาวิชา"
   ]
  },
  {
   "cell_type": "code",
   "execution_count": 25,
   "id": "082874e8",
   "metadata": {},
   "outputs": [
    {
     "name": "stdout",
     "output_type": "stream",
     "text": [
      "{'Veterinary Science', 'Innovation in Tourism', 'Computer Science', 'Information Technology', 'Fine Arts', 'Communication Arts', 'Business Administration', 'Pharmacy', 'Sports Science', 'Environmental Science', 'Research Science', 'Architecture', 'Political Science', 'International College', 'Education', 'Science'}\n"
     ]
    }
   ],
   "source": [
    "thisset.add(\"Computer Science\")\n",
    "thisset.add(\"Information Technology\")\n",
    "print(thisset)"
   ]
  },
  {
   "cell_type": "markdown",
   "id": "736dbe98",
   "metadata": {
    "id": "736dbe98"
   },
   "source": [
    "5.ลบข้อมูล \"Education\" ออกจาก set ของสาขาวิชา\n"
   ]
  },
  {
   "cell_type": "code",
   "execution_count": 26,
   "id": "314a283f",
   "metadata": {},
   "outputs": [
    {
     "name": "stdout",
     "output_type": "stream",
     "text": [
      "{'Veterinary Science', 'Innovation in Tourism', 'Computer Science', 'Information Technology', 'Fine Arts', 'Communication Arts', 'Business Administration', 'Pharmacy', 'Sports Science', 'Environmental Science', 'Research Science', 'Architecture', 'Political Science', 'International College', 'Science'}\n"
     ]
    }
   ],
   "source": [
    "thisset.remove(\"Education\")\n",
    "print(thisset)"
   ]
  },
  {
   "cell_type": "markdown",
   "id": "5a2b5fd8",
   "metadata": {
    "id": "5a2b5fd8"
   },
   "source": [
    "สร้าง Dictionaries จากข้อมูลด้านล่างด้วยรูปแบบ key,value ที่ประกอบไปด้วย Professor 3 ท่านคือ Professor1, Professor2, Professor3\n",
    "โดยมีรายละเอียดดังนี้\n",
    "\n",
    "```\n",
    "    \"Professor1\" มี\n",
    "       สอน \"Courses\": \"CourseA\", \"CourseB\", \"CourseC\"\n",
    "        ที่พักอาจารย์ \"Office\": \"Room 101\"\n",
    "         ติดต่อ \"Email\": \"professor1@example.com\"\n",
    "    \n",
    "    \"Professor2\" มี\n",
    "        สอน \"Courses\": [\"CourseD\", \"CourseE\", \"CourseF\"],\n",
    "        ที่พักอาจารย์ \"Office\": \"Room 102\",\n",
    "        ติดต่อ \"Email\": \"professor2@example.com\",\n",
    "  \n",
    "    \"Professor3\" มี\n",
    "        สอน \"Courses\": [\"CourseG\", \"CourseH\", \"CourseI\"],\n",
    "         ที่พักอาจารย์ \"Office\": \"Room 103\",\n",
    "        ติดต่อ \"Email\": \"professor3@example.com\",\n",
    "```\n",
    "\n",
    "\n",
    "\n",
    "\n"
   ]
  },
  {
   "cell_type": "code",
   "execution_count": 9,
   "id": "2275a1fc",
   "metadata": {},
   "outputs": [],
   "source": [
    "thisdict = {\"Professor1\" : {\n",
    "                 \"Courses\": [\"CourseA\", \"CourseB\", \"CourseC\"],\n",
    "                 \"Office\": \"Room 101\",\n",
    "                 \"Email\": \"professor1@example.com\"\n",
    "                },\n",
    "            \"Professor2\": {\n",
    "                 \"Courses\": [\"CourseD\", \"CourseE\", \"CourseF\"],\n",
    "                 \"Office\": \"Room 102\",\n",
    "                 \"Email\": \"professor2@example.com\"\n",
    "            },\n",
    "            \"Professor3\": {\n",
    "                 \"Courses\": [\"CourseG\", \"CourseH\", \"CourseI\"],\n",
    "                 \"Office\": \"Room 103\",\n",
    "                 \"Email\": \"professor3@example.com\",\n",
    "            }\n",
    "           }"
   ]
  },
  {
   "cell_type": "markdown",
   "id": "bff3f6a3",
   "metadata": {
    "id": "bff3f6a3"
   },
   "source": [
    "6.พิมพ์ค่า key และ value ทั้งหมดใน Dictionaries ที่สร้าง"
   ]
  },
  {
   "cell_type": "code",
   "execution_count": 10,
   "id": "361493d7",
   "metadata": {},
   "outputs": [
    {
     "name": "stdout",
     "output_type": "stream",
     "text": [
      "{'Professor1': {'Courses': ['CourseA', 'CourseB', 'CourseC'], 'Office': 'Room 101', 'Email': 'professor1@example.com'}, 'Professor2': {'Courses': ['CourseD', 'CourseE', 'CourseF'], 'Office': 'Room 102', 'Email': 'professor2@example.com'}, 'Professor3': {'Courses': ['CourseG', 'CourseH', 'CourseI'], 'Office': 'Room 103', 'Email': 'professor3@example.com'}}\n"
     ]
    }
   ],
   "source": [
    "print(thisdict)"
   ]
  },
  {
   "cell_type": "markdown",
   "id": "6bb0e521",
   "metadata": {
    "id": "6bb0e521"
   },
   "source": [
    "7.เปลี่ยนชื่อ \"Professor1\" เป็น \"Professor Sunee\" ใน Dictionaries"
   ]
  },
  {
   "cell_type": "code",
   "execution_count": 11,
   "id": "1a87730e",
   "metadata": {},
   "outputs": [
    {
     "data": {
      "text/plain": [
       "{'Professor2': {'Courses': ['CourseD', 'CourseE', 'CourseF'],\n",
       "  'Office': 'Room 102',\n",
       "  'Email': 'professor2@example.com'},\n",
       " 'Professor3': {'Courses': ['CourseG', 'CourseH', 'CourseI'],\n",
       "  'Office': 'Room 103',\n",
       "  'Email': 'professor3@example.com'},\n",
       " 'Professor Sunee': {'Courses': ['CourseA', 'CourseB', 'CourseC'],\n",
       "  'Office': 'Room 101',\n",
       "  'Email': 'professor1@example.com'}}"
      ]
     },
     "execution_count": 11,
     "metadata": {},
     "output_type": "execute_result"
    }
   ],
   "source": [
    "thisdict['Professor Sunee'] = thisdict.pop('Professor1')\n",
    "thisdict"
   ]
  },
  {
   "cell_type": "markdown",
   "id": "b0tmP09Ls2xz",
   "metadata": {
    "id": "b0tmP09Ls2xz"
   },
   "source": [
    "8.เปลี่ยนชื่อ \"CourseA\" เป็น \"data structure\" และเปลี่ยนชื่อ \"CourseI\" เป็น \"linear algebra\""
   ]
  },
  {
   "cell_type": "code",
   "execution_count": 12,
   "id": "9f1b73c4",
   "metadata": {},
   "outputs": [
    {
     "data": {
      "text/plain": [
       "{'Professor2': {'Courses': ['CourseD', 'CourseE', 'CourseF'],\n",
       "  'Office': 'Room 102',\n",
       "  'Email': 'professor2@example.com'},\n",
       " 'Professor3': {'Courses': ['CourseG', 'CourseH', 'Linear algebra'],\n",
       "  'Office': 'Room 103',\n",
       "  'Email': 'professor3@example.com'},\n",
       " 'Professor Sunee': {'Courses': ['Data Structure', 'CourseB', 'CourseC'],\n",
       "  'Office': 'Room 101',\n",
       "  'Email': 'professor1@example.com'}}"
      ]
     },
     "execution_count": 12,
     "metadata": {},
     "output_type": "execute_result"
    }
   ],
   "source": [
    "thisdict['Professor Sunee']['Courses'][0]= \"Data Structure\"\n",
    "thisdict['Professor3']['Courses'][2]= \"Linear algebra\"\n",
    "thisdict"
   ]
  },
  {
   "cell_type": "markdown",
   "id": "w8XtnpzqtNk-",
   "metadata": {
    "id": "w8XtnpzqtNk-"
   },
   "source": [
    "9.แสดง Courses ทุก Courses จากทุก Professor"
   ]
  },
  {
   "cell_type": "code",
   "execution_count": 15,
   "id": "23d3785d",
   "metadata": {},
   "outputs": [
    {
     "name": "stdout",
     "output_type": "stream",
     "text": [
      "['CourseD', 'CourseE', 'CourseF']\n",
      "['CourseG', 'CourseH', 'Linear algebra']\n",
      "['Data Structure', 'CourseB', 'CourseC']\n"
     ]
    }
   ],
   "source": [
    "for Professor,data in thisdict.items():\n",
    "    print(data['Courses'])"
   ]
  },
  {
   "cell_type": "markdown",
   "id": "IBwC_hfFtYjZ",
   "metadata": {
    "id": "IBwC_hfFtYjZ"
   },
   "source": [
    "10.Professor3 ลาออก จงลบข้อมูลของ Professor3 ออกจาก Dictionaries ที่สร้าง"
   ]
  },
  {
   "cell_type": "code",
   "execution_count": 7,
   "id": "df4901b6",
   "metadata": {},
   "outputs": [
    {
     "data": {
      "text/plain": [
       "{'Professor2': {'Courses': ['CourseD', 'CourseE', 'CourseF'],\n",
       "  'Office': 'Room 102',\n",
       "  'Email': 'professor2@example.com'},\n",
       " 'Professor Sunee': {'Courses': ['Data Structure', 'CourseB', 'CourseC'],\n",
       "  'Office': 'Room 101',\n",
       "  'Email': 'professor1@example.com'}}"
      ]
     },
     "execution_count": 7,
     "metadata": {},
     "output_type": "execute_result"
    }
   ],
   "source": [
    "del thisdict[\"Professor3\"]\n",
    "thisdict"
   ]
  },
  {
   "cell_type": "code",
   "execution_count": null,
   "id": "1830ca49",
   "metadata": {},
   "outputs": [],
   "source": []
  }
 ],
 "metadata": {
  "colab": {
   "provenance": []
  },
  "kernelspec": {
   "display_name": "Python 3 (ipykernel)",
   "language": "python",
   "name": "python3"
  },
  "language_info": {
   "codemirror_mode": {
    "name": "ipython",
    "version": 3
   },
   "file_extension": ".py",
   "mimetype": "text/x-python",
   "name": "python",
   "nbconvert_exporter": "python",
   "pygments_lexer": "ipython3",
   "version": "3.11.5"
  }
 },
 "nbformat": 4,
 "nbformat_minor": 5
}
