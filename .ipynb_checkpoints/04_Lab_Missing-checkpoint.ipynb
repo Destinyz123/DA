{
 "cells": [
  {
   "cell_type": "code",
   "execution_count": null,
   "metadata": {
    "id": "r7_Rmofnyf0g"
   },
   "outputs": [],
   "source": [
    "#Import Python Libraries\n",
    "import numpy as np\n",
    "import scipy as sp\n",
    "import pandas as pd\n",
    "import matplotlib.pyplot as plt\n",
    "import seaborn as sns"
   ]
  },
  {
   "cell_type": "markdown",
   "metadata": {
    "id": "yoaXlNcRyf0l"
   },
   "source": [
    "### Missing Values"
   ]
  },
  {
   "cell_type": "code",
   "execution_count": null,
   "metadata": {
    "id": "XSfQLJMFyf0n",
    "outputId": "fe68b33a-9313-4a6c-e9ae-1bb9927046a1"
   },
   "outputs": [],
   "source": [
    "#flights = pd.read_csv(\"d:/flights.csv\")\n",
    "flights =  #your code\n",
    "flights.head()"
   ]
  },
  {
   "cell_type": "code",
   "execution_count": null,
   "metadata": {
    "id": "DX3AzAe8yf0o",
    "outputId": "36af20b4-f315-4cf2-973a-7f67bf06ab4a",
    "scrolled": true
   },
   "outputs": [],
   "source": [
    "# เลือกข้อมูลที่มี missing value (use isnull()) อย่างน้อย 1 ตัว (use .any(axis=1)) ในแต่ละแถว \n",
    "# df[df.method()]\n",
    "\n",
    "#your code"
   ]
  },
  {
   "cell_type": "code",
   "execution_count": null,
   "metadata": {
    "id": "snGNkQjWyf0p",
    "outputId": "37a5ee41-3b54-4410-c82a-b009d27343ca"
   },
   "outputs": [],
   "source": [
    "# เลือก arr_delay ที่มีค่า missing value\n",
    "flights1 = #your code\n",
    "flights1.head()"
   ]
  },
  {
   "cell_type": "code",
   "execution_count": null,
   "metadata": {
    "id": "MS_ZPNBQyf0q",
    "outputId": "24c2bc6c-bdb5-4c48-a1c0-c8ef3154da9d"
   },
   "outputs": [],
   "source": [
    "# เลือกข้อมูลทั้งหมดที่ไม่มี missing value (use dropna())\n",
    "flights2_nomissing = #your code\n",
    "flights2_nomissing.head(10)"
   ]
  },
  {
   "cell_type": "code",
   "execution_count": null,
   "metadata": {
    "id": "6wUkvocwyf0r",
    "outputId": "6b70fe82-390b-469e-b102-d77f299a00f1"
   },
   "outputs": [],
   "source": [
    "# เปลี่ยนค่า missing values ของ dep_delay ด้วยค่าศูนย์ (use fillna(value))\n",
    "nomiss = #your code\n",
    "\n",
    "\n",
    "# ตรวจสอบว่า nomiss เป็น null หรือไม่ (use isnull()) จะให้ค่า True or False (any()) ถ้าเป็น null จะมีค่าเป็น true\n",
    "\n",
    "#your code\n"
   ]
  },
  {
   "cell_type": "code",
   "execution_count": null,
   "metadata": {
    "id": "-RMFWzeuyf0s"
   },
   "outputs": [],
   "source": [
    "# เปลี่ยนค่า missing values  (use fillna(value) )ของ dep_delay ด้วยค่าเฉลี่ยของ dep_delay\n",
    "#หรือจะใช้คำสั่ง mean_dep_delay = np.mean(flights['dep_delay'])\n",
    "\n",
    "mean_dep_delay = #your code\n",
    "\n",
    "print(\"ค่าเฉลี่ยของ dep_delay\",mean_dep_delay)\n",
    "\n",
    "average_nomiss = #your code"
   ]
  },
  {
   "cell_type": "code",
   "execution_count": null,
   "metadata": {},
   "outputs": [],
   "source": [
    "average_nomiss"
   ]
  },
  {
   "cell_type": "code",
   "execution_count": null,
   "metadata": {
    "id": "K60LMEQCyf0s",
    "outputId": "8fedd4b3-b59e-4bc4-884d-255d04e755e9"
   },
   "outputs": [],
   "source": [
    "# นับจำนวน missing values (use sum()) ที่อยู่ในแต่ละ dep_delay, arr_delay attribute\n",
    "\n",
    "# your code"
   ]
  },
  {
   "cell_type": "code",
   "execution_count": null,
   "metadata": {
    "id": "58MjjfeOyf0t",
    "outputId": "1224b4c7-c9b4-4cfc-9d2e-050b1ea9a9a7"
   },
   "outputs": [],
   "source": [
    "#นับจำนวน missing value ของ dep_delay และ arr_delay ทั้งหมด\n",
    "\n",
    "# your code"
   ]
  },
  {
   "cell_type": "markdown",
   "metadata": {
    "id": "lLujIJgLyf0u"
   },
   "source": [
    "---\n",
    "### Common Aggregation Functions:\n",
    "\n",
    "|Function|Description\n",
    "|-------|--------\n",
    "|min   | minimum\n",
    "|max   | maximum\n",
    "|count   | number of non-null observations\n",
    "|sum   | sum of values\n",
    "|mean  | arithmetic mean of values\n",
    "|median | median\n",
    "|mad | mean absolute deviation\n",
    "|mode | mode\n",
    "|prod   | product of values\n",
    "|std  | standard deviation\n",
    "|var | unbiased variance\n",
    "\n"
   ]
  },
  {
   "cell_type": "code",
   "execution_count": null,
   "metadata": {
    "id": "mcT1G2noyf0v",
    "outputId": "db19ac8d-338b-447f-d3c2-44eb27383605"
   },
   "outputs": [],
   "source": [
    "# Find the number of non-missing values in each column\n",
    "# นับจำนวนที่ไม่ใช่ missing value ของแต่ละ attribute\n",
    "\n",
    "# your code"
   ]
  },
  {
   "cell_type": "code",
   "execution_count": null,
   "metadata": {
    "id": "__zWSRcNyf0v",
    "outputId": "91f3fc5b-31a3-4948-ad3a-e1e38206cab2"
   },
   "outputs": [],
   "source": [
    "# Find minimum value for all the columns in the dataset\n",
    "\n",
    "# your code"
   ]
  },
  {
   "cell_type": "code",
   "execution_count": null,
   "metadata": {
    "id": "4ndzw47vyf0w",
    "outputId": "265d1112-b87f-4add-c122-f7dbee63d9ab"
   },
   "outputs": [],
   "source": [
    "#หาค่าเฉลี่ยของ (use .mean()) dep_delay แยกตามกลุ่ม carrier (use groupby())\n",
    "\n",
    "# your code"
   ]
  },
  {
   "cell_type": "code",
   "execution_count": null,
   "metadata": {
    "id": "L-KTB1D-yf0w",
    "outputId": "f3098f19-603c-48e7-eb8f-ea2b0a372b62"
   },
   "outputs": [],
   "source": [
    "#ใช้ agg() method เพื่อหา min, max, mean  ของ dep_delay,arr_delay\n",
    "\n",
    "# your code"
   ]
  },
  {
   "cell_type": "markdown",
   "metadata": {
    "id": "ldm-enU5yf0w"
   },
   "source": [
    "### Basic descriptive statistics"
   ]
  },
  {
   "cell_type": "markdown",
   "metadata": {
    "id": "nDwqIx5hyf0x"
   },
   "source": [
    "|Function|Description\n",
    "|-------|--------\n",
    "|min   | minimum\n",
    "|max   | maximum\n",
    "|mean  | arithmetic mean of values\n",
    "|median | median\n",
    "|mad | mean absolute deviation\n",
    "|mode | mode\n",
    "|std  | standard deviation\n",
    "|var | unbiased variance\n",
    "|sem | standard error of the mean\n",
    "|skew| sample skewness\n",
    "|kurt|kurtosis\n",
    "|quantile| value at %\n"
   ]
  },
  {
   "cell_type": "code",
   "execution_count": null,
   "metadata": {
    "id": "cHQmNv9Xyf0x",
    "outputId": "c11f4e3d-fe94-4a4e-897a-8000047e367c"
   },
   "outputs": [],
   "source": [
    "# คำนวณหาค่าสถิติพื้นฐานของ dep_delay (use describe())\n",
    "\n",
    "# your code"
   ]
  },
  {
   "cell_type": "code",
   "execution_count": null,
   "metadata": {
    "id": "60EFEZbpyf0x",
    "outputId": "fbcd4965-2160-435f-a82e-5f97ff76c04c"
   },
   "outputs": [],
   "source": [
    "# Count the number of records for each different value in a vector\n",
    "#เหมือน flights.groupby('carrier')['carrier'].count()  (use value_counts() )\n",
    "\n",
    "# your code"
   ]
  },
  {
   "cell_type": "code",
   "execution_count": null,
   "metadata": {
    "id": "SLhx83XByf0y",
    "outputId": "b4c1c658-2084-4d52-d497-1e69bc3e1120"
   },
   "outputs": [],
   "source": [
    "# use count()"
   ]
  }
 ],
 "metadata": {
  "colab": {
   "name": "05-Lab-Missing-Graph-26-Jan-2022.ipynb",
   "provenance": []
  },
  "kernelspec": {
   "display_name": "Python 3 (ipykernel)",
   "language": "python",
   "name": "python3"
  },
  "language_info": {
   "codemirror_mode": {
    "name": "ipython",
    "version": 3
   },
   "file_extension": ".py",
   "mimetype": "text/x-python",
   "name": "python",
   "nbconvert_exporter": "python",
   "pygments_lexer": "ipython3",
   "version": "3.9.12"
  }
 },
 "nbformat": 4,
 "nbformat_minor": 1
}
