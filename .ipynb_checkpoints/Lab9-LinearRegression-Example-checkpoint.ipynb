{
 "cells": [
  {
   "cell_type": "markdown",
   "metadata": {
    "id": "i-N9mModofej"
   },
   "source": [
    "## Simple linear regresssion with python\n",
    "\n",
    "### Python packages for regression\n",
    "python packages ที่สามารถนำมาใช้วิเคราะห์ regression มีหลาย package เช่น:\n",
    "1. [statsmodels](http://statsmodels.sourceforge.net/)\n",
    "+ [scikit-learn](http://scikit-learn.org/)\n",
    "+ [SciPy](http://www.scipy.org/)\n",
    "+ ... \n",
    "\n",
    "### Example dataset\n",
    "ไฟล์ข้อมูลที่จะนำมาใช้วิเคราะห์คือ 'Advertising' สามารถ download จาก\n",
    "http://www-bcf.usc.edu/~gareth/ISL/data.html)\n",
    "\n",
    "ข้อมูลมีทั้งหมด 200 ตัวอย่าง แต่ละตัวอย่างประกอบด้วยงบประมาณโฆษณาทางโทรทัศน์ วิทยุ และหนังสือพิมพ์ และมูลค่ายอดขายสินค้า\n",
    "ต้องการหาความสัมพันธ์ระหว่างงบประมาณค่าโฆษณาทางโทรทัศน์ วิทยุ หนังสือพิมพ์ (ตัวแปรอิสระ)กับมูลค่ายอดขายสินค้า(ตัวแปรตาม)\n",
    "ซึ่งจะนำไปช่วยในการวางแผนงบประมาณการโฆษณาผ่านทางช่องทางใดที่จะทำให้มูลค่ายอดขายสินค้ามากที่สุด"
   ]
  },
  {
   "cell_type": "code",
   "execution_count": 3,
   "metadata": {
    "id": "MwOxNHsfofem"
   },
   "outputs": [],
   "source": [
    "import pandas as pd\n",
    "import statsmodels.formula.api as sm\n",
    "from sklearn import linear_model\n",
    "\n",
    "import matplotlib.pyplot as plt\n",
    "%matplotlib inline  \n",
    "#plt.rcParams['figure.figsize'] = (10, 6) #ปรับกราฟให้มีขนาด 10x6\n"
   ]
  },
  {
   "cell_type": "code",
   "execution_count": 4,
   "metadata": {
    "id": "6jLoTNZVofen"
   },
   "outputs": [
    {
     "data": {
      "text/html": [
       "<div>\n",
       "<style scoped>\n",
       "    .dataframe tbody tr th:only-of-type {\n",
       "        vertical-align: middle;\n",
       "    }\n",
       "\n",
       "    .dataframe tbody tr th {\n",
       "        vertical-align: top;\n",
       "    }\n",
       "\n",
       "    .dataframe thead th {\n",
       "        text-align: right;\n",
       "    }\n",
       "</style>\n",
       "<table border=\"1\" class=\"dataframe\">\n",
       "  <thead>\n",
       "    <tr style=\"text-align: right;\">\n",
       "      <th></th>\n",
       "      <th>Unnamed: 0</th>\n",
       "      <th>TV</th>\n",
       "      <th>radio</th>\n",
       "      <th>newspaper</th>\n",
       "      <th>sales</th>\n",
       "    </tr>\n",
       "  </thead>\n",
       "  <tbody>\n",
       "    <tr>\n",
       "      <th>0</th>\n",
       "      <td>1</td>\n",
       "      <td>230.1</td>\n",
       "      <td>37.8</td>\n",
       "      <td>69.2</td>\n",
       "      <td>22.1</td>\n",
       "    </tr>\n",
       "    <tr>\n",
       "      <th>1</th>\n",
       "      <td>2</td>\n",
       "      <td>44.5</td>\n",
       "      <td>39.3</td>\n",
       "      <td>45.1</td>\n",
       "      <td>10.4</td>\n",
       "    </tr>\n",
       "    <tr>\n",
       "      <th>2</th>\n",
       "      <td>3</td>\n",
       "      <td>17.2</td>\n",
       "      <td>45.9</td>\n",
       "      <td>69.3</td>\n",
       "      <td>9.3</td>\n",
       "    </tr>\n",
       "    <tr>\n",
       "      <th>3</th>\n",
       "      <td>4</td>\n",
       "      <td>151.5</td>\n",
       "      <td>41.3</td>\n",
       "      <td>58.5</td>\n",
       "      <td>18.5</td>\n",
       "    </tr>\n",
       "    <tr>\n",
       "      <th>4</th>\n",
       "      <td>5</td>\n",
       "      <td>180.8</td>\n",
       "      <td>10.8</td>\n",
       "      <td>58.4</td>\n",
       "      <td>12.9</td>\n",
       "    </tr>\n",
       "  </tbody>\n",
       "</table>\n",
       "</div>"
      ],
      "text/plain": [
       "   Unnamed: 0     TV  radio  newspaper  sales\n",
       "0           1  230.1   37.8       69.2   22.1\n",
       "1           2   44.5   39.3       45.1   10.4\n",
       "2           3   17.2   45.9       69.3    9.3\n",
       "3           4  151.5   41.3       58.5   18.5\n",
       "4           5  180.8   10.8       58.4   12.9"
      ]
     },
     "execution_count": 4,
     "metadata": {},
     "output_type": "execute_result"
    }
   ],
   "source": [
    "# อ่านข้อมูลจากไฟล์ excel Advertising.csv\n",
    "advert = pd.read_csv('Advertising.csv')\n",
    "advert.head()"
   ]
  },
  {
   "cell_type": "markdown",
   "metadata": {
    "id": "54Ub_HsUofeo"
   },
   "source": [
    "## Plot and describe the data"
   ]
  },
  {
   "cell_type": "code",
   "execution_count": 5,
   "metadata": {
    "id": "kvfsLkR3ofeo"
   },
   "outputs": [
    {
     "name": "stdout",
     "output_type": "stream",
     "text": [
      "            Unnamed: 0        TV     radio  newspaper     sales\n",
      "Unnamed: 0    1.000000  0.017715 -0.110680  -0.154944 -0.051616\n",
      "TV            0.017715  1.000000  0.054809   0.056648  0.782224\n",
      "radio        -0.110680  0.054809  1.000000   0.354104  0.576223\n",
      "newspaper    -0.154944  0.056648  0.354104   1.000000  0.228299\n",
      "sales        -0.051616  0.782224  0.576223   0.228299  1.000000\n"
     ]
    }
   ],
   "source": [
    "# หาความสัมพันธ์ของข้อมูล\n",
    "print(advert.corr())"
   ]
  },
  {
   "cell_type": "code",
   "execution_count": 6,
   "metadata": {
    "id": "NQ_UhudSofeo"
   },
   "outputs": [
    {
     "data": {
      "text/plain": [
       "Index(['Unnamed: 0', 'TV', 'radio', 'newspaper', 'sales'], dtype='object')"
      ]
     },
     "execution_count": 6,
     "metadata": {},
     "output_type": "execute_result"
    }
   ],
   "source": [
    "advert.columns"
   ]
  },
  {
   "cell_type": "code",
   "execution_count": 7,
   "metadata": {
    "id": "fjFwfLmHofep"
   },
   "outputs": [
    {
     "data": {
      "text/plain": [
       "<matplotlib.collections.PathCollection at 0x243a55f82d0>"
      ]
     },
     "execution_count": 7,
     "metadata": {},
     "output_type": "execute_result"
    },
    {
     "data": {
      "image/png": "[encoded data removed]",
      "text/plain": [
       "<Figure size 640x480 with 1 Axes>"
      ]
     },
     "metadata": {},
     "output_type": "display_data"
    }
   ],
   "source": [
    "# สร้าง scatter plot เพื่อดูความสัมพันธ์ของข้อมูลทั้ง 4\n",
    "# 'TV', 'radio', 'newspaper', 'sales'\n",
    "\n",
    "# 'TV', 'radio', 'newspaper'\n",
    "plt.scatter(advert['TV'], advert['sales'], color='green')\n",
    "plt.scatter(advert['radio'], advert['sales'], color='red')\n",
    "plt.scatter(advert['newspaper'], advert['sales'], color='blue')"
   ]
  },
  {
   "cell_type": "code",
   "execution_count": 8,
   "metadata": {
    "id": "Z62y7zjjofep"
   },
   "outputs": [
    {
     "data": {
      "image/png": "[encoded data removed]",
      "text/plain": [
       "<Figure size 640x480 with 1 Axes>"
      ]
     },
     "metadata": {},
     "output_type": "display_data"
    }
   ],
   "source": [
    "#ใช้คำสั่ง scatter plot เพื่อดูความสัมพันธ์ทั้ง 4 ตัวแปร\n",
    "# 'TV', 'radio', 'newspaper', 'sales'   maker[P,s,D]\n",
    "\n",
    "# plt.scatter(x=advert['col'],y=advert['sales'],c='r',marker='P',label='label_col')\n",
    "plt.scatter(x=advert['TV'],y=advert['sales'],c='r',marker='P',label='TV')\n",
    "plt.scatter(x=advert['radio'],y=advert['sales'],c='b',marker='s',label='Radio')\n",
    "plt.scatter(x=advert['newspaper'],y=advert['sales'],c='g',marker='D',label='Newspaper')\n",
    "\n",
    "\n",
    "#plt.legend(numpoints=1,loc=4)\n",
    "plt.legend(loc=4)\n",
    "plt.xlabel('Ad budget (Thousands of dollars)')\n",
    "plt.ylabel('Sales (units of product)')\n",
    "plt.show()"
   ]
  },
  {
   "cell_type": "code",
   "execution_count": 9,
   "metadata": {
    "id": "8mVAkPcPofep"
   },
   "outputs": [
    {
     "data": {
      "text/html": [
       "<div>\n",
       "<style scoped>\n",
       "    .dataframe tbody tr th:only-of-type {\n",
       "        vertical-align: middle;\n",
       "    }\n",
       "\n",
       "    .dataframe tbody tr th {\n",
       "        vertical-align: top;\n",
       "    }\n",
       "\n",
       "    .dataframe thead th {\n",
       "        text-align: right;\n",
       "    }\n",
       "</style>\n",
       "<table border=\"1\" class=\"dataframe\">\n",
       "  <thead>\n",
       "    <tr style=\"text-align: right;\">\n",
       "      <th></th>\n",
       "      <th>Unnamed: 0</th>\n",
       "      <th>TV</th>\n",
       "      <th>radio</th>\n",
       "      <th>newspaper</th>\n",
       "      <th>sales</th>\n",
       "    </tr>\n",
       "  </thead>\n",
       "  <tbody>\n",
       "    <tr>\n",
       "      <th>count</th>\n",
       "      <td>200.000000</td>\n",
       "      <td>200.000000</td>\n",
       "      <td>200.000000</td>\n",
       "      <td>200.000000</td>\n",
       "      <td>200.000000</td>\n",
       "    </tr>\n",
       "    <tr>\n",
       "      <th>mean</th>\n",
       "      <td>100.500000</td>\n",
       "      <td>147.042500</td>\n",
       "      <td>23.264000</td>\n",
       "      <td>30.554000</td>\n",
       "      <td>14.022500</td>\n",
       "    </tr>\n",
       "    <tr>\n",
       "      <th>std</th>\n",
       "      <td>57.879185</td>\n",
       "      <td>85.854236</td>\n",
       "      <td>14.846809</td>\n",
       "      <td>21.778621</td>\n",
       "      <td>5.217457</td>\n",
       "    </tr>\n",
       "    <tr>\n",
       "      <th>min</th>\n",
       "      <td>1.000000</td>\n",
       "      <td>0.700000</td>\n",
       "      <td>0.000000</td>\n",
       "      <td>0.300000</td>\n",
       "      <td>1.600000</td>\n",
       "    </tr>\n",
       "    <tr>\n",
       "      <th>25%</th>\n",
       "      <td>50.750000</td>\n",
       "      <td>74.375000</td>\n",
       "      <td>9.975000</td>\n",
       "      <td>12.750000</td>\n",
       "      <td>10.375000</td>\n",
       "    </tr>\n",
       "    <tr>\n",
       "      <th>50%</th>\n",
       "      <td>100.500000</td>\n",
       "      <td>149.750000</td>\n",
       "      <td>22.900000</td>\n",
       "      <td>25.750000</td>\n",
       "      <td>12.900000</td>\n",
       "    </tr>\n",
       "    <tr>\n",
       "      <th>75%</th>\n",
       "      <td>150.250000</td>\n",
       "      <td>218.825000</td>\n",
       "      <td>36.525000</td>\n",
       "      <td>45.100000</td>\n",
       "      <td>17.400000</td>\n",
       "    </tr>\n",
       "    <tr>\n",
       "      <th>max</th>\n",
       "      <td>200.000000</td>\n",
       "      <td>296.400000</td>\n",
       "      <td>49.600000</td>\n",
       "      <td>114.000000</td>\n",
       "      <td>27.000000</td>\n",
       "    </tr>\n",
       "  </tbody>\n",
       "</table>\n",
       "</div>"
      ],
      "text/plain": [
       "       Unnamed: 0          TV       radio   newspaper       sales\n",
       "count  200.000000  200.000000  200.000000  200.000000  200.000000\n",
       "mean   100.500000  147.042500   23.264000   30.554000   14.022500\n",
       "std     57.879185   85.854236   14.846809   21.778621    5.217457\n",
       "min      1.000000    0.700000    0.000000    0.300000    1.600000\n",
       "25%     50.750000   74.375000    9.975000   12.750000   10.375000\n",
       "50%    100.500000  149.750000   22.900000   25.750000   12.900000\n",
       "75%    150.250000  218.825000   36.525000   45.100000   17.400000\n",
       "max    200.000000  296.400000   49.600000  114.000000   27.000000"
      ]
     },
     "execution_count": 9,
     "metadata": {},
     "output_type": "execute_result"
    }
   ],
   "source": [
    "advert.describe()"
   ]
  },
  {
   "cell_type": "markdown",
   "metadata": {
    "id": "sGThJDjTofep"
   },
   "source": [
    "## Observations \n",
    "1. จากกราฟที่ได้ จะเห็นว่าจำนวนยอดขายมีความสัมพันธ์กับงบประมาณที่จ่ายในการโฆษณา นั่่นคือเมื่อมีการโฆษณาสินค้ามาก มูลค่ายอดขายสินค้าเพิ่มมากขึ้น \n",
    "+  มีการใช้งบประมาณมากที่สุดสำหรับการโฆษณาทางทีวี งบประมาณโฆษณาสำหรับวิทยุและหนังสือพิมพ์ทำให้มูลค่ายอดขายไม่แตกต่างกันมาก ส่วนเบี่ยงเบนมาตรฐานของตัวแปรค่าโฆษณาทางโทรทัศน์มีค่ามากกว่าตัวแปรอื่นๆ  \n",
    "\n",
    "## Questions\n",
    "1. ความสัมพันธ์ระหว่างการโฆษณาและการขายสามารถวิเคราะห์ได้อย่างไร? สามารถคาดการณ์ผลกระทบของแต่ละสื่อโฆษณาที่มีผลต่อมูลค่ายอดขายได้หรือไม่? ความสัมพันธ์เป็นเส้นตรงหรือไม่\n",
    "+  สื่อโฆษณาใด (TV, Radio, Newspaper) ที่ทำให้มูลค่ายอดขายมากที่สุด\n",
    "+  ตัวแปรแต่ละตัวมีความสัมพันธ์กันหรือไม่\n",
    "\n",
    "ดังนั้นเริ่มแรก มาพิจารณาตัวแปรสื่อโฆษณาทางโทรทัศน์มีผลต่อมูลค่ายอดขายสินค้าโดยใช้ linear regression model \n",
    "\n",
    "$$\n",
    "Sales = \\beta_0 + \\beta_1 * TV.\n",
    "$$"
   ]
  },
  {
   "cell_type": "code",
   "execution_count": 11,
   "metadata": {
    "id": "sOwuLYUpofeq"
   },
   "outputs": [
    {
     "data": {
      "text/html": [
       "<table class=\"simpletable\">\n",
       "<caption>OLS Regression Results</caption>\n",
       "<tr>\n",
       "  <th>Dep. Variable:</th>          <td>sales</td>      <th>  R-squared:         </th> <td>   0.612</td>\n",
       "</tr>\n",
       "<tr>\n",
       "  <th>Model:</th>                   <td>OLS</td>       <th>  Adj. R-squared:    </th> <td>   0.610</td>\n",
       "</tr>\n",
       "<tr>\n",
       "  <th>Method:</th>             <td>Least Squares</td>  <th>  F-statistic:       </th> <td>   312.1</td>\n",
       "</tr>\n",
       "<tr>\n",
       "  <th>Date:</th>             <td>Fri, 01 Mar 2024</td> <th>  Prob (F-statistic):</th> <td>1.47e-42</td>\n",
       "</tr>\n",
       "<tr>\n",
       "  <th>Time:</th>                 <td>15:17:06</td>     <th>  Log-Likelihood:    </th> <td> -519.05</td>\n",
       "</tr>\n",
       "<tr>\n",
       "  <th>No. Observations:</th>      <td>   200</td>      <th>  AIC:               </th> <td>   1042.</td>\n",
       "</tr>\n",
       "<tr>\n",
       "  <th>Df Residuals:</th>          <td>   198</td>      <th>  BIC:               </th> <td>   1049.</td>\n",
       "</tr>\n",
       "<tr>\n",
       "  <th>Df Model:</th>              <td>     1</td>      <th>                     </th>     <td> </td>   \n",
       "</tr>\n",
       "<tr>\n",
       "  <th>Covariance Type:</th>      <td>nonrobust</td>    <th>                     </th>     <td> </td>   \n",
       "</tr>\n",
       "</table>\n",
       "<table class=\"simpletable\">\n",
       "<tr>\n",
       "      <td></td>         <th>coef</th>     <th>std err</th>      <th>t</th>      <th>P>|t|</th>  <th>[0.025</th>    <th>0.975]</th>  \n",
       "</tr>\n",
       "<tr>\n",
       "  <th>Intercept</th> <td>    7.0326</td> <td>    0.458</td> <td>   15.360</td> <td> 0.000</td> <td>    6.130</td> <td>    7.935</td>\n",
       "</tr>\n",
       "<tr>\n",
       "  <th>TV</th>        <td>    0.0475</td> <td>    0.003</td> <td>   17.668</td> <td> 0.000</td> <td>    0.042</td> <td>    0.053</td>\n",
       "</tr>\n",
       "</table>\n",
       "<table class=\"simpletable\">\n",
       "<tr>\n",
       "  <th>Omnibus:</th>       <td> 0.531</td> <th>  Durbin-Watson:     </th> <td>   1.935</td>\n",
       "</tr>\n",
       "<tr>\n",
       "  <th>Prob(Omnibus):</th> <td> 0.767</td> <th>  Jarque-Bera (JB):  </th> <td>   0.669</td>\n",
       "</tr>\n",
       "<tr>\n",
       "  <th>Skew:</th>          <td>-0.089</td> <th>  Prob(JB):          </th> <td>   0.716</td>\n",
       "</tr>\n",
       "<tr>\n",
       "  <th>Kurtosis:</th>      <td> 2.779</td> <th>  Cond. No.          </th> <td>    338.</td>\n",
       "</tr>\n",
       "</table><br/><br/>Notes:<br/>[1] Standard Errors assume that the covariance matrix of the errors is correctly specified."
      ],
      "text/latex": [
       "\\begin{center}\n",
       "\\begin{tabular}{lclc}\n",
       "\\toprule\n",
       "\\textbf{Dep. Variable:}    &      sales       & \\textbf{  R-squared:         } &     0.612   \\\\\n",
       "\\textbf{Model:}            &       OLS        & \\textbf{  Adj. R-squared:    } &     0.610   \\\\\n",
       "\\textbf{Method:}           &  Least Squares   & \\textbf{  F-statistic:       } &     312.1   \\\\\n",
       "\\textbf{Date:}             & Fri, 01 Mar 2024 & \\textbf{  Prob (F-statistic):} &  1.47e-42   \\\\\n",
       "\\textbf{Time:}             &     15:17:06     & \\textbf{  Log-Likelihood:    } &   -519.05   \\\\\n",
       "\\textbf{No. Observations:} &         200      & \\textbf{  AIC:               } &     1042.   \\\\\n",
       "\\textbf{Df Residuals:}     &         198      & \\textbf{  BIC:               } &     1049.   \\\\\n",
       "\\textbf{Df Model:}         &           1      & \\textbf{                     } &             \\\\\n",
       "\\textbf{Covariance Type:}  &    nonrobust     & \\textbf{                     } &             \\\\\n",
       "\\bottomrule\n",
       "\\end{tabular}\n",
       "\\begin{tabular}{lcccccc}\n",
       "                   & \\textbf{coef} & \\textbf{std err} & \\textbf{t} & \\textbf{P$> |$t$|$} & \\textbf{[0.025} & \\textbf{0.975]}  \\\\\n",
       "\\midrule\n",
       "\\textbf{Intercept} &       7.0326  &        0.458     &    15.360  &         0.000        &        6.130    &        7.935     \\\\\n",
       "\\textbf{TV}        &       0.0475  &        0.003     &    17.668  &         0.000        &        0.042    &        0.053     \\\\\n",
       "\\bottomrule\n",
       "\\end{tabular}\n",
       "\\begin{tabular}{lclc}\n",
       "\\textbf{Omnibus:}       &  0.531 & \\textbf{  Durbin-Watson:     } &    1.935  \\\\\n",
       "\\textbf{Prob(Omnibus):} &  0.767 & \\textbf{  Jarque-Bera (JB):  } &    0.669  \\\\\n",
       "\\textbf{Skew:}          & -0.089 & \\textbf{  Prob(JB):          } &    0.716  \\\\\n",
       "\\textbf{Kurtosis:}      &  2.779 & \\textbf{  Cond. No.          } &     338.  \\\\\n",
       "\\bottomrule\n",
       "\\end{tabular}\n",
       "%\\caption{OLS Regression Results}\n",
       "\\end{center}\n",
       "\n",
       "Notes: \\newline\n",
       " [1] Standard Errors assume that the covariance matrix of the errors is correctly specified."
      ],
      "text/plain": [
       "<class 'statsmodels.iolib.summary.Summary'>\n",
       "\"\"\"\n",
       "                            OLS Regression Results                            \n",
       "==============================================================================\n",
       "Dep. Variable:                  sales   R-squared:                       0.612\n",
       "Model:                            OLS   Adj. R-squared:                  0.610\n",
       "Method:                 Least Squares   F-statistic:                     312.1\n",
       "Date:                Fri, 01 Mar 2024   Prob (F-statistic):           1.47e-42\n",
       "Time:                        15:17:06   Log-Likelihood:                -519.05\n",
       "No. Observations:                 200   AIC:                             1042.\n",
       "Df Residuals:                     198   BIC:                             1049.\n",
       "Df Model:                           1                                         \n",
       "Covariance Type:            nonrobust                                         \n",
       "==============================================================================\n",
       "                 coef    std err          t      P>|t|      [0.025      0.975]\n",
       "------------------------------------------------------------------------------\n",
       "Intercept      7.0326      0.458     15.360      0.000       6.130       7.935\n",
       "TV             0.0475      0.003     17.668      0.000       0.042       0.053\n",
       "==============================================================================\n",
       "Omnibus:                        0.531   Durbin-Watson:                   1.935\n",
       "Prob(Omnibus):                  0.767   Jarque-Bera (JB):                0.669\n",
       "Skew:                          -0.089   Prob(JB):                        0.716\n",
       "Kurtosis:                       2.779   Cond. No.                         338.\n",
       "==============================================================================\n",
       "\n",
       "Notes:\n",
       "[1] Standard Errors assume that the covariance matrix of the errors is correctly specified.\n",
       "\"\"\""
      ]
     },
     "execution_count": 11,
     "metadata": {},
     "output_type": "execute_result"
    }
   ],
   "source": [
    "#Ordinary Least Squares: OLS เป็นการประมาณค่าด้วยวิธีกําลังสองน้อยที่สุดทําให้ผลรวมกําลังสองของค่า error น้อยที่สุด\n",
    "# sales  TV\n",
    "ad_TV_ols = sm.ols(formula=\"sales ~ TV\", data=advert) \n",
    "TV_fit_model = ad_TV_ols.fit() # ปรับ model regression เพื่อให้ค่า error น้อยที่สุด\n",
    "TV_fit_model.summary()"
   ]
  },
  {
   "cell_type": "code",
   "execution_count": 12,
   "metadata": {
    "id": "CDR9CMFYofeq"
   },
   "outputs": [
    {
     "name": "stderr",
     "output_type": "stream",
     "text": [
      "C:\\Users\\user\\AppData\\Local\\Temp\\ipykernel_19744\\1106475350.py:3: UserWarning: color is redundantly defined by the 'color' keyword argument and the fmt string \"k\" (-> color=(0.0, 0.0, 0.0, 1)). The keyword argument will take precedence.\n",
      "  plt.plot(advert['TV'],TV_fit_model.predict(),'k',color='blue',linewidth=3)\n"
     ]
    },
    {
     "data": {
      "image/png": "[encoded data removed]",
      "text/plain": [
       "<Figure size 640x480 with 1 Axes>"
      ]
     },
     "metadata": {},
     "output_type": "display_data"
    }
   ],
   "source": [
    "# ใช้ scatter plot เพื่อดูความสัมพันธ์ของตัวแปรสื่อโฆษณาทางโทรทัศน์กับมูลค่ายอดขายสินค้า และแสดงเส้นพยากรณ์ของความสัมพันธ์ของ 2 ตัวแปร\n",
    "plt.scatter(x=advert['TV'],y=advert['sales'],c='k',marker='*',label='TV')\n",
    "plt.plot(advert['TV'],TV_fit_model.predict(),'k',color='blue',linewidth=3)\n",
    "\n",
    "plt.xlabel('TV budget (Thousands of dollars)')\n",
    "plt.ylabel('Sales (Thousand units of product)')\n",
    "plt.show()"
   ]
  },
  {
   "cell_type": "markdown",
   "metadata": {
    "id": "a1YKNdNtofer"
   },
   "source": [
    "## ตัวอย่างของการหา   simple linear regression model โดยใช้ scikit-learn"
   ]
  },
  {
   "cell_type": "code",
   "execution_count": 13,
   "metadata": {
    "id": "AAAmiCeoofer"
   },
   "outputs": [
    {
     "data": {
      "image/png": "[encoded data removed]",
      "text/plain": [
       "<Figure size 640x480 with 1 Axes>"
      ]
     },
     "metadata": {},
     "output_type": "display_data"
    }
   ],
   "source": [
    "lr = linear_model.LinearRegression() # create a linear regression object\n",
    "\n",
    "# scikit-learn doesn't work as well with pandas, so we have to extract values \n",
    "x = advert['TV'].values.reshape(advert['TV'].shape[0],1)\n",
    "y = advert['sales'].values.reshape(advert['sales'].shape[0],1)\n",
    "\n",
    "lr.fit(X=x, y=y)\n",
    "\n",
    "plt.scatter(x, y,  color='black')\n",
    "plt.plot(x, lr.predict(x), color='blue', linewidth=3)\n",
    "\n",
    "plt.xlabel('TV budget (Thousands of dollars)')\n",
    "plt.ylabel('Sales (Thousand units of product)')\n",
    "plt.show()"
   ]
  },
  {
   "cell_type": "markdown",
   "metadata": {
    "id": "yzGO1Sb0ofer"
   },
   "source": [
    "## Interpretation and discussion การแปลผลและการวิเคราะห์\n",
    "\n",
    "จุดตัดของเส้นตรงพยากรณ์ของตัวแปรมูลค่ายอดขาย (ตัวแปรตาม)คือ $\\hat{\\beta}_0 = 7.032$ นั้นหมายถึงว่าถึงแม้ไม่มีการโฆษณาทางโทรทัศน์ เส้นพยากรณ์ประมาณมูลค่ายอดขายสินค้าได้ 7,032 หน่วย\n",
    "\n",
    "ความชันของเส้นตรงพยากรณ์ของตัวแปรมูลค่ายอดขาย (ตัวแปรตาม)คือ $\\hat{\\beta}_1 = 0.0475$. นั้นหมายถึงเส้นพยากรณ์ประมาณมูลค่ายอดขายสินค้าเพิ่มขึ้น 47.5 หน่วย เมื่อมีการจ่ายค่าโฆษณาทางโทรทัศน์ทุกๆ 1,000 หน่วย "
   ]
  },
  {
   "cell_type": "markdown",
   "metadata": {
    "id": "Dm9gA0JKofes"
   },
   "source": [
    "ก่อนจะใช้ linear regresssion ในการพยากรณ์และประมาณมูลค่ายอดขายต้องมีการประเมินสมการ linear regression ที่ได้จากตัวอย่างก่อน โดยประเมินว่าสมการที่ได้นั้นสามารถอธิบายความสัมพันธ์ระหว่างตัวแปร 2 ตัวแปรได้ดีเพียงใดโดยพิจารณาจากผลบวกกำลังสองของ linear regression หรือเรียกว่าสัมประสิทธิ์การกําหนด แทนด้วย **$R^2$** ซึ่งมีค่าอยู่ระหว่าง 0 ถึง 1\n",
    "\n",
    "จาก model ที่ให้ผลการคำนวณออกมา ได้ค่า $R^2 = 0.612$ ที่แสดงถึงความสัมพันธ์ของค่าใช้จ่ายโฆษณาทางโทรทัศน์กับมูลค่ายอดขายสินค้าที่ 61.2%"
   ]
  },
  {
   "cell_type": "markdown",
   "metadata": {
    "id": "9subPAhhofes"
   },
   "source": [
    "##  การทดสอบสมมติฐานใน linear regression\n",
    "\n",
    "เพื่อทดสอบสมการถดถอยว่าสามารถอธิบายความสัมพันธ์ระหว่างตัวแปร 2 ตัวได้ดีเพียงใด และสามารถใช้สมการถดถอยในการทํานาย และประมาณค่า Y ได้อย่างมีประสิทธิภาพหรือไม่ สมมติฐานที่ใช้ทดสอบคือ \n",
    "\n",
    "$$\n",
    "H_0: \\text{ไม่มีความสัมพัธ์ระหว่างตัวแปร $x$ and $y$} \\iff \\beta_1 = 0 \n",
    "$$\n",
    "กับ\n",
    "$$\n",
    "H_a: \\text{มีความสัมพันธ์ระหว่างตัวแปร $x$ and $y$}  \\iff \\beta_1 \\neq 0 \n",
    "$$"
   ]
  },
  {
   "cell_type": "markdown",
   "metadata": {
    "id": "y0zonD9aofes"
   },
   "source": [
    "## ต้องการวิเคราะห์ว่าตัวแปรอื่นๆ มีผลต่อมูลค่ายอดขายสินค้าหรือไม่\n",
    "ใช้ linear regression วิเคราะห์ค่าใช้จ่ายในการโฆษณาทางวิทยุและหนังสือพิมพ์มีผลต่อมูลค่ายอดขายสินค้าหรือไม่ โดยใช้ statsmodels"
   ]
  },
  {
   "cell_type": "code",
   "execution_count": 14,
   "metadata": {
    "id": "V__yGf0mofes"
   },
   "outputs": [
    {
     "data": {
      "text/html": [
       "<table class=\"simpletable\">\n",
       "<caption>OLS Regression Results</caption>\n",
       "<tr>\n",
       "  <th>Dep. Variable:</th>          <td>sales</td>      <th>  R-squared:         </th> <td>   0.332</td>\n",
       "</tr>\n",
       "<tr>\n",
       "  <th>Model:</th>                   <td>OLS</td>       <th>  Adj. R-squared:    </th> <td>   0.329</td>\n",
       "</tr>\n",
       "<tr>\n",
       "  <th>Method:</th>             <td>Least Squares</td>  <th>  F-statistic:       </th> <td>   98.42</td>\n",
       "</tr>\n",
       "<tr>\n",
       "  <th>Date:</th>             <td>Fri, 01 Mar 2024</td> <th>  Prob (F-statistic):</th> <td>4.35e-19</td>\n",
       "</tr>\n",
       "<tr>\n",
       "  <th>Time:</th>                 <td>15:17:50</td>     <th>  Log-Likelihood:    </th> <td> -573.34</td>\n",
       "</tr>\n",
       "<tr>\n",
       "  <th>No. Observations:</th>      <td>   200</td>      <th>  AIC:               </th> <td>   1151.</td>\n",
       "</tr>\n",
       "<tr>\n",
       "  <th>Df Residuals:</th>          <td>   198</td>      <th>  BIC:               </th> <td>   1157.</td>\n",
       "</tr>\n",
       "<tr>\n",
       "  <th>Df Model:</th>              <td>     1</td>      <th>                     </th>     <td> </td>   \n",
       "</tr>\n",
       "<tr>\n",
       "  <th>Covariance Type:</th>      <td>nonrobust</td>    <th>                     </th>     <td> </td>   \n",
       "</tr>\n",
       "</table>\n",
       "<table class=\"simpletable\">\n",
       "<tr>\n",
       "      <td></td>         <th>coef</th>     <th>std err</th>      <th>t</th>      <th>P>|t|</th>  <th>[0.025</th>    <th>0.975]</th>  \n",
       "</tr>\n",
       "<tr>\n",
       "  <th>Intercept</th> <td>    9.3116</td> <td>    0.563</td> <td>   16.542</td> <td> 0.000</td> <td>    8.202</td> <td>   10.422</td>\n",
       "</tr>\n",
       "<tr>\n",
       "  <th>radio</th>     <td>    0.2025</td> <td>    0.020</td> <td>    9.921</td> <td> 0.000</td> <td>    0.162</td> <td>    0.243</td>\n",
       "</tr>\n",
       "</table>\n",
       "<table class=\"simpletable\">\n",
       "<tr>\n",
       "  <th>Omnibus:</th>       <td>19.358</td> <th>  Durbin-Watson:     </th> <td>   1.946</td>\n",
       "</tr>\n",
       "<tr>\n",
       "  <th>Prob(Omnibus):</th> <td> 0.000</td> <th>  Jarque-Bera (JB):  </th> <td>  21.910</td>\n",
       "</tr>\n",
       "<tr>\n",
       "  <th>Skew:</th>          <td>-0.764</td> <th>  Prob(JB):          </th> <td>1.75e-05</td>\n",
       "</tr>\n",
       "<tr>\n",
       "  <th>Kurtosis:</th>      <td> 3.544</td> <th>  Cond. No.          </th> <td>    51.4</td>\n",
       "</tr>\n",
       "</table><br/><br/>Notes:<br/>[1] Standard Errors assume that the covariance matrix of the errors is correctly specified."
      ],
      "text/latex": [
       "\\begin{center}\n",
       "\\begin{tabular}{lclc}\n",
       "\\toprule\n",
       "\\textbf{Dep. Variable:}    &      sales       & \\textbf{  R-squared:         } &     0.332   \\\\\n",
       "\\textbf{Model:}            &       OLS        & \\textbf{  Adj. R-squared:    } &     0.329   \\\\\n",
       "\\textbf{Method:}           &  Least Squares   & \\textbf{  F-statistic:       } &     98.42   \\\\\n",
       "\\textbf{Date:}             & Fri, 01 Mar 2024 & \\textbf{  Prob (F-statistic):} &  4.35e-19   \\\\\n",
       "\\textbf{Time:}             &     15:17:50     & \\textbf{  Log-Likelihood:    } &   -573.34   \\\\\n",
       "\\textbf{No. Observations:} &         200      & \\textbf{  AIC:               } &     1151.   \\\\\n",
       "\\textbf{Df Residuals:}     &         198      & \\textbf{  BIC:               } &     1157.   \\\\\n",
       "\\textbf{Df Model:}         &           1      & \\textbf{                     } &             \\\\\n",
       "\\textbf{Covariance Type:}  &    nonrobust     & \\textbf{                     } &             \\\\\n",
       "\\bottomrule\n",
       "\\end{tabular}\n",
       "\\begin{tabular}{lcccccc}\n",
       "                   & \\textbf{coef} & \\textbf{std err} & \\textbf{t} & \\textbf{P$> |$t$|$} & \\textbf{[0.025} & \\textbf{0.975]}  \\\\\n",
       "\\midrule\n",
       "\\textbf{Intercept} &       9.3116  &        0.563     &    16.542  &         0.000        &        8.202    &       10.422     \\\\\n",
       "\\textbf{radio}     &       0.2025  &        0.020     &     9.921  &         0.000        &        0.162    &        0.243     \\\\\n",
       "\\bottomrule\n",
       "\\end{tabular}\n",
       "\\begin{tabular}{lclc}\n",
       "\\textbf{Omnibus:}       & 19.358 & \\textbf{  Durbin-Watson:     } &    1.946  \\\\\n",
       "\\textbf{Prob(Omnibus):} &  0.000 & \\textbf{  Jarque-Bera (JB):  } &   21.910  \\\\\n",
       "\\textbf{Skew:}          & -0.764 & \\textbf{  Prob(JB):          } & 1.75e-05  \\\\\n",
       "\\textbf{Kurtosis:}      &  3.544 & \\textbf{  Cond. No.          } &     51.4  \\\\\n",
       "\\bottomrule\n",
       "\\end{tabular}\n",
       "%\\caption{OLS Regression Results}\n",
       "\\end{center}\n",
       "\n",
       "Notes: \\newline\n",
       " [1] Standard Errors assume that the covariance matrix of the errors is correctly specified."
      ],
      "text/plain": [
       "<class 'statsmodels.iolib.summary.Summary'>\n",
       "\"\"\"\n",
       "                            OLS Regression Results                            \n",
       "==============================================================================\n",
       "Dep. Variable:                  sales   R-squared:                       0.332\n",
       "Model:                            OLS   Adj. R-squared:                  0.329\n",
       "Method:                 Least Squares   F-statistic:                     98.42\n",
       "Date:                Fri, 01 Mar 2024   Prob (F-statistic):           4.35e-19\n",
       "Time:                        15:17:50   Log-Likelihood:                -573.34\n",
       "No. Observations:                 200   AIC:                             1151.\n",
       "Df Residuals:                     198   BIC:                             1157.\n",
       "Df Model:                           1                                         \n",
       "Covariance Type:            nonrobust                                         \n",
       "==============================================================================\n",
       "                 coef    std err          t      P>|t|      [0.025      0.975]\n",
       "------------------------------------------------------------------------------\n",
       "Intercept      9.3116      0.563     16.542      0.000       8.202      10.422\n",
       "radio          0.2025      0.020      9.921      0.000       0.162       0.243\n",
       "==============================================================================\n",
       "Omnibus:                       19.358   Durbin-Watson:                   1.946\n",
       "Prob(Omnibus):                  0.000   Jarque-Bera (JB):               21.910\n",
       "Skew:                          -0.764   Prob(JB):                     1.75e-05\n",
       "Kurtosis:                       3.544   Cond. No.                         51.4\n",
       "==============================================================================\n",
       "\n",
       "Notes:\n",
       "[1] Standard Errors assume that the covariance matrix of the errors is correctly specified.\n",
       "\"\"\""
      ]
     },
     "execution_count": 14,
     "metadata": {},
     "output_type": "execute_result"
    }
   ],
   "source": [
    "#Ordinary Least Squares (OLS) แนวคิดกำลังสองน้อยที่สุด\n",
    "# sales , radio\n",
    "# sm.ols(formula=\"\", data=advert).fit()\n",
    "ad_Radio_ols = sm.ols(formula=\"sales ~ radio \", data=advert).fit()\n",
    "ad_Radio_ols.summary()"
   ]
  },
  {
   "cell_type": "code",
   "execution_count": 15,
   "metadata": {
    "id": "9Qki_OvPofes"
   },
   "outputs": [
    {
     "data": {
      "text/html": [
       "<table class=\"simpletable\">\n",
       "<caption>OLS Regression Results</caption>\n",
       "<tr>\n",
       "  <th>Dep. Variable:</th>          <td>sales</td>      <th>  R-squared:         </th> <td>   0.052</td>\n",
       "</tr>\n",
       "<tr>\n",
       "  <th>Model:</th>                   <td>OLS</td>       <th>  Adj. R-squared:    </th> <td>   0.047</td>\n",
       "</tr>\n",
       "<tr>\n",
       "  <th>Method:</th>             <td>Least Squares</td>  <th>  F-statistic:       </th> <td>   10.89</td>\n",
       "</tr>\n",
       "<tr>\n",
       "  <th>Date:</th>             <td>Fri, 01 Mar 2024</td> <th>  Prob (F-statistic):</th>  <td>0.00115</td>\n",
       "</tr>\n",
       "<tr>\n",
       "  <th>Time:</th>                 <td>15:18:01</td>     <th>  Log-Likelihood:    </th> <td> -608.34</td>\n",
       "</tr>\n",
       "<tr>\n",
       "  <th>No. Observations:</th>      <td>   200</td>      <th>  AIC:               </th> <td>   1221.</td>\n",
       "</tr>\n",
       "<tr>\n",
       "  <th>Df Residuals:</th>          <td>   198</td>      <th>  BIC:               </th> <td>   1227.</td>\n",
       "</tr>\n",
       "<tr>\n",
       "  <th>Df Model:</th>              <td>     1</td>      <th>                     </th>     <td> </td>   \n",
       "</tr>\n",
       "<tr>\n",
       "  <th>Covariance Type:</th>      <td>nonrobust</td>    <th>                     </th>     <td> </td>   \n",
       "</tr>\n",
       "</table>\n",
       "<table class=\"simpletable\">\n",
       "<tr>\n",
       "      <td></td>         <th>coef</th>     <th>std err</th>      <th>t</th>      <th>P>|t|</th>  <th>[0.025</th>    <th>0.975]</th>  \n",
       "</tr>\n",
       "<tr>\n",
       "  <th>Intercept</th> <td>   12.3514</td> <td>    0.621</td> <td>   19.876</td> <td> 0.000</td> <td>   11.126</td> <td>   13.577</td>\n",
       "</tr>\n",
       "<tr>\n",
       "  <th>newspaper</th> <td>    0.0547</td> <td>    0.017</td> <td>    3.300</td> <td> 0.001</td> <td>    0.022</td> <td>    0.087</td>\n",
       "</tr>\n",
       "</table>\n",
       "<table class=\"simpletable\">\n",
       "<tr>\n",
       "  <th>Omnibus:</th>       <td> 6.231</td> <th>  Durbin-Watson:     </th> <td>   1.983</td>\n",
       "</tr>\n",
       "<tr>\n",
       "  <th>Prob(Omnibus):</th> <td> 0.044</td> <th>  Jarque-Bera (JB):  </th> <td>   5.483</td>\n",
       "</tr>\n",
       "<tr>\n",
       "  <th>Skew:</th>          <td> 0.330</td> <th>  Prob(JB):          </th> <td>  0.0645</td>\n",
       "</tr>\n",
       "<tr>\n",
       "  <th>Kurtosis:</th>      <td> 2.527</td> <th>  Cond. No.          </th> <td>    64.7</td>\n",
       "</tr>\n",
       "</table><br/><br/>Notes:<br/>[1] Standard Errors assume that the covariance matrix of the errors is correctly specified."
      ],
      "text/latex": [
       "\\begin{center}\n",
       "\\begin{tabular}{lclc}\n",
       "\\toprule\n",
       "\\textbf{Dep. Variable:}    &      sales       & \\textbf{  R-squared:         } &     0.052   \\\\\n",
       "\\textbf{Model:}            &       OLS        & \\textbf{  Adj. R-squared:    } &     0.047   \\\\\n",
       "\\textbf{Method:}           &  Least Squares   & \\textbf{  F-statistic:       } &     10.89   \\\\\n",
       "\\textbf{Date:}             & Fri, 01 Mar 2024 & \\textbf{  Prob (F-statistic):} &  0.00115    \\\\\n",
       "\\textbf{Time:}             &     15:18:01     & \\textbf{  Log-Likelihood:    } &   -608.34   \\\\\n",
       "\\textbf{No. Observations:} &         200      & \\textbf{  AIC:               } &     1221.   \\\\\n",
       "\\textbf{Df Residuals:}     &         198      & \\textbf{  BIC:               } &     1227.   \\\\\n",
       "\\textbf{Df Model:}         &           1      & \\textbf{                     } &             \\\\\n",
       "\\textbf{Covariance Type:}  &    nonrobust     & \\textbf{                     } &             \\\\\n",
       "\\bottomrule\n",
       "\\end{tabular}\n",
       "\\begin{tabular}{lcccccc}\n",
       "                   & \\textbf{coef} & \\textbf{std err} & \\textbf{t} & \\textbf{P$> |$t$|$} & \\textbf{[0.025} & \\textbf{0.975]}  \\\\\n",
       "\\midrule\n",
       "\\textbf{Intercept} &      12.3514  &        0.621     &    19.876  &         0.000        &       11.126    &       13.577     \\\\\n",
       "\\textbf{newspaper} &       0.0547  &        0.017     &     3.300  &         0.001        &        0.022    &        0.087     \\\\\n",
       "\\bottomrule\n",
       "\\end{tabular}\n",
       "\\begin{tabular}{lclc}\n",
       "\\textbf{Omnibus:}       &  6.231 & \\textbf{  Durbin-Watson:     } &    1.983  \\\\\n",
       "\\textbf{Prob(Omnibus):} &  0.044 & \\textbf{  Jarque-Bera (JB):  } &    5.483  \\\\\n",
       "\\textbf{Skew:}          &  0.330 & \\textbf{  Prob(JB):          } &   0.0645  \\\\\n",
       "\\textbf{Kurtosis:}      &  2.527 & \\textbf{  Cond. No.          } &     64.7  \\\\\n",
       "\\bottomrule\n",
       "\\end{tabular}\n",
       "%\\caption{OLS Regression Results}\n",
       "\\end{center}\n",
       "\n",
       "Notes: \\newline\n",
       " [1] Standard Errors assume that the covariance matrix of the errors is correctly specified."
      ],
      "text/plain": [
       "<class 'statsmodels.iolib.summary.Summary'>\n",
       "\"\"\"\n",
       "                            OLS Regression Results                            \n",
       "==============================================================================\n",
       "Dep. Variable:                  sales   R-squared:                       0.052\n",
       "Model:                            OLS   Adj. R-squared:                  0.047\n",
       "Method:                 Least Squares   F-statistic:                     10.89\n",
       "Date:                Fri, 01 Mar 2024   Prob (F-statistic):            0.00115\n",
       "Time:                        15:18:01   Log-Likelihood:                -608.34\n",
       "No. Observations:                 200   AIC:                             1221.\n",
       "Df Residuals:                     198   BIC:                             1227.\n",
       "Df Model:                           1                                         \n",
       "Covariance Type:            nonrobust                                         \n",
       "==============================================================================\n",
       "                 coef    std err          t      P>|t|      [0.025      0.975]\n",
       "------------------------------------------------------------------------------\n",
       "Intercept     12.3514      0.621     19.876      0.000      11.126      13.577\n",
       "newspaper      0.0547      0.017      3.300      0.001       0.022       0.087\n",
       "==============================================================================\n",
       "Omnibus:                        6.231   Durbin-Watson:                   1.983\n",
       "Prob(Omnibus):                  0.044   Jarque-Bera (JB):                5.483\n",
       "Skew:                           0.330   Prob(JB):                       0.0645\n",
       "Kurtosis:                       2.527   Cond. No.                         64.7\n",
       "==============================================================================\n",
       "\n",
       "Notes:\n",
       "[1] Standard Errors assume that the covariance matrix of the errors is correctly specified.\n",
       "\"\"\""
      ]
     },
     "execution_count": 15,
     "metadata": {},
     "output_type": "execute_result"
    }
   ],
   "source": [
    "# sales , newspaper\n",
    "# sm.ols(formula=\"\", data=advert).fit()\n",
    "ad_Newspaper_ols =  sm.ols(formula=\"sales ~ newspaper \", data=advert).fit()\n",
    "ad_Newspaper_ols.summary()"
   ]
  },
  {
   "cell_type": "code",
   "execution_count": null,
   "metadata": {
    "id": "JGps1Yklofes",
    "scrolled": true
   },
   "outputs": [],
   "source": [
    "#ใช้ scatter plot เพื่อดูความสัมพันธ์ของตัวแปรสื่อโฆษณาทางโทรทัศน์, วิทยุ และหนังสือพิมพ์กับมูลค่ายอดขายสินค้าและแสดงเส้นพยากรณ์ของความสัมพันธ์ของ 4 ตัวแปร\n",
    "plt.scatter(x=advert['TV'],y=advert['sales'],c='r',marker='s',label='TV')\n",
    "plt.scatter(x=advert['radio'],y=advert['sales'],c='b',marker='o',label='Radio')\n",
    "plt.scatter(x=advert['newspaper'],y=advert['sales'],c='g',marker='*',label='Newspaper')\n",
    "plt.legend(numpoints=1,loc=4)\n",
    "\n",
    "plt.plot(advert['TV'],TV_fit_model.predict(),c='r',linewidth=3)\n",
    "plt.plot(advert['radio'],ad_Radio_ols.predict(),c='b',linewidth=3)\n",
    "plt.plot(advert['newspaper'],ad_Newspaper_ols.predict(),c='k',linewidth=3)\n",
    "\n",
    "plt.xlabel('Ad budget (Thousands of dollars)')\n",
    "plt.ylabel('Sales (units of product)')\n",
    "plt.show()\n"
   ]
  },
  {
   "cell_type": "markdown",
   "metadata": {
    "collapsed": true,
    "id": "PujwLNlLofet"
   },
   "source": [
    "## การแปลผล\n",
    "\n",
    "จากกราฟและผลการคำนวณโดย statsmodel จะเห็นว่าค่าความชันของเส้นพยากรณ์ระหว่างตัวแปรค่าใช้จ่ายทางวิทยุมีค่ามากกว่าค่าใช้จ่ายทางหนังสือพิมพ์และทางโทรทัศน์\n",
    "\n",
    "ค่า $R^2$ ของความสัมพันธ์ของตัวแปรค่าใช้จ่ายการโฆษณาทางวิทยุกับมูลค่าของยอดขายคือ 33.2% เมื่อเปรียบเทียบกับค่า $R^2$ ของความสัมพันธ์ของตัวแปรค่าใช้จ่ายการโฆษณาทางโทรทัศน์กับมูลค่าของยอดขายคือ 61.2% และเมื่อเปรียบเทียบกับค่า $R^2$ ของความสัมพันธ์ของตัวแปรค่าใช้จ่ายการโฆษณาทางหนังสือพิมพ์กับมูลค่าของยอดขายคือ 5.2%\n",
    "\n",
    "ดังนั้นพิจารณาตัวแปรค่าใช้จ่ายโฆษณาทางโทรทัศน์ วิทยุ หนังสือพิมพ์ที่มีผลต่อมูลค่ายอดขายพร้อมกัน Multiple Linear Regression  ที่ได้จะได้สมการดังนี้ \n",
    " \n",
    "$$\n",
    "Sales = \\beta_0 + \\beta_1 * TV + \\beta_2*Radio + \\beta_3*Newspaper. \n",
    "$$"
   ]
  },
  {
   "cell_type": "markdown",
   "metadata": {
    "id": "iVSncOuXofet"
   },
   "source": [
    "## Multiple Linear Regression\n",
    "\n",
    "**Model:**\n",
    "$$\n",
    "Sales = \\beta_0 + \\beta_1 * TV + \\beta_2*Radio + \\beta_3*Newspaper. \n",
    "$$\n"
   ]
  },
  {
   "cell_type": "code",
   "execution_count": null,
   "metadata": {
    "id": "EHdc9kEMofet"
   },
   "outputs": [],
   "source": [
    "# sales , TV + radio + newspaper\n",
    "ad_all_ols = sm.ols(formula=\"sales ~ TV + radio + newspaper\", data=advert).fit()\n",
    "#ad_all_ols = sm.ols(formula=\"sales ~ TV + newspaper\", data=advert).fit()\n",
    "ad_all_ols.summary()"
   ]
  },
  {
   "cell_type": "code",
   "execution_count": null,
   "metadata": {
    "id": "A0HI9-7yofet"
   },
   "outputs": [],
   "source": [
    "# plot ดูค่าสัมประสิทธิ์สหสัมพันธ์ (r) ของตัวแปรมูลค่ายอดขายกับตัวแปรค่าโฆษณาทางโทรทัศน์ วิทยุ หนังสือพิมพ์ (use corr())\n",
    "print(advert.corr())\n",
    "#pd.plotting.scatter_matrix(advert, figsize=(10, 10), diagonal='kde')\n",
    "pd.plotting.scatter_matrix(advert, figsize=(10, 10), diagonal='hist')\n",
    "plt.show()\n"
   ]
  },
  {
   "cell_type": "markdown",
   "metadata": {
    "id": "gdf8d2BFofet"
   },
   "source": [
    "สัมประสิทธิ์สหสัมพันธ์ (r) ระหว่างค่าโฆษณาทางหนังสือพิมพ์และวิทยุคือ 0.35 แต่อย่างไรก็ตามเมื่อพิจารณาค่า t=-0.177 (ค่า t เป็นสถิติที่ใช้ทดสอบว่าตัวแปรอิสระใดบ้างที่สามารถใช้พยากรณ์ตัวแปรตามได้บ้าง) และ p-value=0.860 มีค่ามากกว่าค่า alpha = 0.05 ยอมรับ H0 แสดงว่าตัวแปรค่าโฆษณาทางหนังสือพิมพ์ไม่มีความสัมพันธ์กับมูลค่ายอดขายสินค้า ดังนั้นสมการ regression สุดท้ายที่ได้คือ\n",
    "\n",
    "$$\n",
    "\\text{Sales} = \\beta_0 + \\beta_1 * \\text{TV_budget} + \\beta_2*\\text{Radio_budget} \n",
    "$$\n"
   ]
  },
  {
   "cell_type": "code",
   "execution_count": null,
   "metadata": {
    "id": "znMNmfzaofet"
   },
   "outputs": [],
   "source": [
    "# sales , TV + radio\n",
    "# sm.ols(formula=\"\", data=advert).fit()\n",
    "ad_TR_ols = sm.ols(formula=\"sales ~ TV + radio\", data=advert).fit()\n",
    "ad_TR_ols.summary()"
   ]
  },
  {
   "cell_type": "markdown",
   "metadata": {
    "id": "PCtLnI4Nofet"
   },
   "source": [
    "สมการ regression สามารถพยากรณ์มูลค่ายอดขายสินค้าที่ขึ้นอยู่กับตัวแปรค่าโฆษณาทางโทรทัศน์และวิทยุ โดยที่ค่า  $R^2 = ??.?\\%$ "
   ]
  },
  {
   "cell_type": "markdown",
   "metadata": {
    "id": "3_2_7RqQqGd6"
   },
   "source": []
  },
  {
   "cell_type": "code",
   "execution_count": null,
   "metadata": {
    "id": "Z0OGtq-_ofet"
   },
   "outputs": [],
   "source": []
  }
 ],
 "metadata": {
  "anaconda-cloud": {},
  "celltoolbar": "Slideshow",
  "colab": {
   "provenance": [
    {
     "file_id": "13eTh2aJE6dZA4kQy-chLEXqhr5GuPbE1",
     "timestamp": 1676977485859
    }
   ]
  },
  "kernelspec": {
   "display_name": "Python 3 (ipykernel)",
   "language": "python",
   "name": "python3"
  },
  "language_info": {
   "codemirror_mode": {
    "name": "ipython",
    "version": 3
   },
   "file_extension": ".py",
   "mimetype": "text/x-python",
   "name": "python",
   "nbconvert_exporter": "python",
   "pygments_lexer": "ipython3",
   "version": "3.11.5"
  }
 },
 "nbformat": 4,
 "nbformat_minor": 1
}
