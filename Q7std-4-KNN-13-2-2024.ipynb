{
 "cells": [
  {
   "cell_type": "markdown",
   "metadata": {
    "id": "yzz1TaHsbnAS"
   },
   "source": [
    "###  Read CSV"
   ]
  },
  {
   "cell_type": "code",
   "execution_count": 25,
   "metadata": {},
   "outputs": [],
   "source": [
    "import pandas as pd\n",
    "import numpy as np"
   ]
  },
  {
   "cell_type": "code",
   "execution_count": 26,
   "metadata": {},
   "outputs": [
    {
     "name": "stdout",
     "output_type": "stream",
     "text": [
      "      CustomerID  Gender  Age  Annual Income ($)  Spending Score (1-100)  \\\n",
      "0              1    Male   19              15000                      39   \n",
      "1              2    Male   21              35000                      81   \n",
      "2              3  Female   20              86000                       6   \n",
      "3              4  Female   23              59000                      77   \n",
      "4              5  Female   31              38000                      40   \n",
      "...          ...     ...  ...                ...                     ...   \n",
      "1960        1996  Female   71             184387                      40   \n",
      "1961        1997  Female   91              73158                      32   \n",
      "1962        1998    Male   87              90961                      14   \n",
      "1963        1999    Male   77             182109                       4   \n",
      "1964        2000    Male   90             110610                      52   \n",
      "\n",
      "         Profession  Work Experience  Family Size  \n",
      "0        Healthcare                1            4  \n",
      "1          Engineer                3            3  \n",
      "2          Engineer                1            1  \n",
      "3            Lawyer                0            2  \n",
      "4     Entertainment                2            6  \n",
      "...             ...              ...          ...  \n",
      "1960         Artist                8            7  \n",
      "1961         Doctor                7            7  \n",
      "1962     Healthcare                9            2  \n",
      "1963      Executive                7            2  \n",
      "1964  Entertainment                5            2  \n",
      "\n",
      "[1965 rows x 8 columns]\n"
     ]
    }
   ],
   "source": [
    "customer = pd.read_csv('Customerswithoutnull.csv')\n",
    "print(customer)"
   ]
  },
  {
   "cell_type": "markdown",
   "metadata": {
    "id": "aqK-YWiwbnAV"
   },
   "source": [
    "Converting string labels into numbers (Import LabelEncoder)"
   ]
  },
  {
   "cell_type": "code",
   "execution_count": 27,
   "metadata": {},
   "outputs": [
    {
     "name": "stdout",
     "output_type": "stream",
     "text": [
      "      CustomerID  Gender  Age  Annual Income ($)  Spending Score (1-100)  \\\n",
      "0              1       1   19              15000                      39   \n",
      "1              2       1   21              35000                      81   \n",
      "2              3       0   20              86000                       6   \n",
      "3              4       0   23              59000                      77   \n",
      "4              5       0   31              38000                      40   \n",
      "...          ...     ...  ...                ...                     ...   \n",
      "1960        1996       0   71             184387                      40   \n",
      "1961        1997       0   91              73158                      32   \n",
      "1962        1998       1   87              90961                      14   \n",
      "1963        1999       1   77             182109                       4   \n",
      "1964        2000       1   90             110610                      52   \n",
      "\n",
      "         Profession  Work Experience  Family Size  \n",
      "0        Healthcare                1            4  \n",
      "1          Engineer                3            3  \n",
      "2          Engineer                1            1  \n",
      "3            Lawyer                0            2  \n",
      "4     Entertainment                2            6  \n",
      "...             ...              ...          ...  \n",
      "1960         Artist                8            7  \n",
      "1961         Doctor                7            7  \n",
      "1962     Healthcare                9            2  \n",
      "1963      Executive                7            2  \n",
      "1964  Entertainment                5            2  \n",
      "\n",
      "[1965 rows x 8 columns]\n"
     ]
    }
   ],
   "source": [
    "from sklearn import preprocessing\n",
    "\n",
    "#creating labelEncoder\n",
    "number = preprocessing.LabelEncoder()\n",
    "\n",
    "customer['Gender'] = number.fit_transform(customer['Gender'])\n",
    "\n",
    "\n",
    "print(customer)"
   ]
  },
  {
   "cell_type": "markdown",
   "metadata": {
    "id": "hAcBQm-Wm6rs"
   },
   "source": [
    "sklearn library, which can be found in sklearn.naive_bayes:\n",
    "\n",
    "sklearn.naive_bayes.CategoricalNB:\n",
    "    for using Naive Bayes on categorical predictor variables.\n",
    "            \n",
    "sklearn.naive_bayes.GaussianNB:\n",
    "    for Naive Bayes on numerical predictor variables, with the assumption\n",
    "    that these variables follow Gaussian distribution.\n",
    "    \n",
    "sklearn.naive_bayes.MultinomialNB:\n",
    "    the predictor variables represent the counts, a popular application\n",
    "    is in text classification. Fractional counts like tf-idf may also work.\n",
    "    \n",
    "sklearn.naive_bayes.ComplementNB:\n",
    "    A modification of MultinomialNB which is suitable for imbalanced datasets.\n",
    "    \n",
    "sklearn.naive_bayes.BernoulliNB:\n",
    "    assumes the data follows Bernoulli distribution (i.e. possible values of\n",
    "    predictor variables are 0 and 1)."
   ]
  },
  {
   "cell_type": "markdown",
   "metadata": {
    "id": "4E4emxUebnAX"
   },
   "source": [
    "## NEW DATA SET"
   ]
  },
  {
   "cell_type": "markdown",
   "metadata": {
    "id": "P-I1eHAjqor3"
   },
   "source": [
    "predict \"Profession\" from NEW DATA"
   ]
  },
  {
   "cell_type": "code",
   "execution_count": 28,
   "metadata": {
    "executionInfo": {
     "elapsed": 15,
     "status": "ok",
     "timestamp": 1707814357470,
     "user": {
      "displayName": "Teerapath Kaewsri",
      "userId": "04164045618367669019"
     },
     "user_tz": -420
    },
    "id": "MM8cn6M8iAOM"
   },
   "outputs": [],
   "source": [
    "random_values = {'Gender': 0,\n",
    " 'Age': 26,\n",
    " 'Annual Income ($)': 171118,\n",
    " 'Spending Score (1-100)': 38,\n",
    " 'Work Experience': 6,\n",
    " 'Family Size': 7}"
   ]
  },
  {
   "cell_type": "markdown",
   "metadata": {
    "id": "7V8N6lcvbnAX"
   },
   "source": [
    "### Naive Bayes"
   ]
  },
  {
   "cell_type": "markdown",
   "metadata": {
    "id": "zVV28RL8bnAX"
   },
   "source": [
    "#### Import Library of Naive Bayes"
   ]
  },
  {
   "cell_type": "code",
   "execution_count": 29,
   "metadata": {},
   "outputs": [],
   "source": [
    "#Import Library of Naive Bayes\n",
    "from sklearn.naive_bayes import GaussianNB, BernoulliNB, MultinomialNB#, CategoricalNB"
   ]
  },
  {
   "cell_type": "markdown",
   "metadata": {
    "id": "_IsLKmyrbnAY"
   },
   "source": [
    "### GaussianNB"
   ]
  },
  {
   "cell_type": "code",
   "execution_count": 30,
   "metadata": {},
   "outputs": [
    {
     "name": "stdout",
     "output_type": "stream",
     "text": [
      "Predicted Value: ['Artist']\n"
     ]
    },
    {
     "name": "stderr",
     "output_type": "stream",
     "text": [
      "C:\\Users\\user\\anaconda3\\Lib\\site-packages\\sklearn\\base.py:464: UserWarning: X does not have valid feature names, but GaussianNB was fitted with feature names\n",
      "  warnings.warn(\n"
     ]
    }
   ],
   "source": [
    "GNB_model = GaussianNB()\n",
    "\n",
    "GNB_model.fit(customer[['Gender','Age', 'Annual Income ($)','Spending Score (1-100)','Work Experience','Family Size']],customer['Profession'])\n",
    "\n",
    "#Predict Output\n",
    "predicted= GNB_model.predict([[0,26,171118,38,6,7]]) \n",
    "print(\"Predicted Value:\", predicted)"
   ]
  },
  {
   "cell_type": "markdown",
   "metadata": {
    "id": "zaoupdp-bnAY"
   },
   "source": [
    "### BernoulliNB"
   ]
  },
  {
   "cell_type": "code",
   "execution_count": 31,
   "metadata": {},
   "outputs": [
    {
     "name": "stdout",
     "output_type": "stream",
     "text": [
      "Predicted Value: ['Artist']\n"
     ]
    },
    {
     "name": "stderr",
     "output_type": "stream",
     "text": [
      "C:\\Users\\user\\anaconda3\\Lib\\site-packages\\sklearn\\base.py:464: UserWarning: X does not have valid feature names, but BernoulliNB was fitted with feature names\n",
      "  warnings.warn(\n"
     ]
    }
   ],
   "source": [
    "BNB_model = BernoulliNB()\n",
    "\n",
    "BNB_model.fit(customer[['Gender','Age', 'Annual Income ($)','Spending Score (1-100)','Work Experience','Family Size']],customer['Profession'])\n",
    "\n",
    "#Predict Output\n",
    "predicted= BNB_model.predict([[0,26,171118,38,6,7]]) \n",
    "print(\"Predicted Value:\", predicted)"
   ]
  },
  {
   "cell_type": "markdown",
   "metadata": {
    "id": "KB08GEcTbnAY"
   },
   "source": [
    "### MultinomialNB"
   ]
  },
  {
   "cell_type": "code",
   "execution_count": 32,
   "metadata": {},
   "outputs": [
    {
     "name": "stdout",
     "output_type": "stream",
     "text": [
      "Predicted Value: ['Executive']\n"
     ]
    },
    {
     "name": "stderr",
     "output_type": "stream",
     "text": [
      "C:\\Users\\user\\anaconda3\\Lib\\site-packages\\sklearn\\base.py:464: UserWarning: X does not have valid feature names, but MultinomialNB was fitted with feature names\n",
      "  warnings.warn(\n"
     ]
    }
   ],
   "source": [
    "MNB_model = MultinomialNB()\n",
    "\n",
    "MNB_model.fit(customer[['Gender','Age', 'Annual Income ($)','Spending Score (1-100)','Work Experience','Family Size']],customer['Profession'])\n",
    "\n",
    "#Predict Output\n",
    "predicted= MNB_model.predict([[0,26,171118,38,6,7]]) \n",
    "print(\"Predicted Value:\", predicted)"
   ]
  },
  {
   "cell_type": "markdown",
   "metadata": {
    "id": "w7sPw5YCbnAY"
   },
   "source": [
    "### K-Nearest Neighbor"
   ]
  },
  {
   "cell_type": "code",
   "execution_count": 33,
   "metadata": {},
   "outputs": [],
   "source": [
    "from sklearn.neighbors import KNeighborsClassifier"
   ]
  },
  {
   "cell_type": "markdown",
   "metadata": {
    "id": "uYqTzL-UbnAZ"
   },
   "source": [
    "#### n_neighbors=3"
   ]
  },
  {
   "cell_type": "code",
   "execution_count": 34,
   "metadata": {},
   "outputs": [
    {
     "name": "stdout",
     "output_type": "stream",
     "text": [
      "Predicted Value: ['Artist']\n"
     ]
    },
    {
     "name": "stderr",
     "output_type": "stream",
     "text": [
      "C:\\Users\\user\\anaconda3\\Lib\\site-packages\\sklearn\\base.py:464: UserWarning: X does not have valid feature names, but KNeighborsClassifier was fitted with feature names\n",
      "  warnings.warn(\n"
     ]
    }
   ],
   "source": [
    "KNN_model = KNeighborsClassifier(n_neighbors= 3)\n",
    "\n",
    "KNN_model.fit(customer[['Gender','Age', 'Annual Income ($)','Spending Score (1-100)','Work Experience','Family Size']],customer['Profession'])\n",
    "\n",
    "#Predict Output\n",
    "predicted= KNN_model.predict([[0,26,171118,38,6,7]]) \n",
    "print(\"Predicted Value:\", predicted)"
   ]
  },
  {
   "cell_type": "markdown",
   "metadata": {
    "id": "WKVr9fpTbnAZ"
   },
   "source": [
    "#### n_neighbors=5"
   ]
  },
  {
   "cell_type": "code",
   "execution_count": 35,
   "metadata": {},
   "outputs": [
    {
     "name": "stdout",
     "output_type": "stream",
     "text": [
      "Predicted Value: ['Artist']\n"
     ]
    },
    {
     "name": "stderr",
     "output_type": "stream",
     "text": [
      "C:\\Users\\user\\anaconda3\\Lib\\site-packages\\sklearn\\base.py:464: UserWarning: X does not have valid feature names, but KNeighborsClassifier was fitted with feature names\n",
      "  warnings.warn(\n"
     ]
    }
   ],
   "source": [
    "KNN_model = KNeighborsClassifier(n_neighbors= 5)\n",
    "\n",
    "KNN_model.fit(customer[['Gender','Age', 'Annual Income ($)','Spending Score (1-100)','Work Experience','Family Size']],customer['Profession'])\n",
    "\n",
    "#Predict Output\n",
    "predicted= KNN_model.predict([[0,26,171118,38,6,7]]) \n",
    "print(\"Predicted Value:\", predicted)"
   ]
  },
  {
   "cell_type": "code",
   "execution_count": null,
   "metadata": {},
   "outputs": [],
   "source": []
  }
 ],
 "metadata": {
  "colab": {
   "provenance": [
    {
     "file_id": "1GxFhKzrP6lf7GyS2SUbPDsageMJSsIEp",
     "timestamp": 1707813218198
    }
   ]
  },
  "kernelspec": {
   "display_name": "Python 3 (ipykernel)",
   "language": "python",
   "name": "python3"
  },
  "language_info": {
   "codemirror_mode": {
    "name": "ipython",
    "version": 3
   },
   "file_extension": ".py",
   "mimetype": "text/x-python",
   "name": "python",
   "nbconvert_exporter": "python",
   "pygments_lexer": "ipython3",
   "version": "3.11.5"
  }
 },
 "nbformat": 4,
 "nbformat_minor": 4
}
